{
 "cells": [
  {
   "cell_type": "markdown",
   "metadata": {},
   "source": [
    "The goal is to predict the price of an AirBnB apartment knowing descriptin, type of appartment and neighborhood"
   ]
  },
  {
   "cell_type": "code",
   "execution_count": 1,
   "metadata": {},
   "outputs": [],
   "source": [
    "#as some executions are too long, code will be writen as comenst, obtained results are stored in pickle\n",
    "import pickle"
   ]
  },
  {
   "cell_type": "code",
   "execution_count": 2,
   "metadata": {},
   "outputs": [],
   "source": [
    "import pandas as pd\n",
    "import numpy as np\n",
    "import sklearn\n",
    "import matplotlib.pyplot as plt\n",
    "from scipy.sparse import csr_matrix\n",
    "import re\n",
    "from matplotlib import style\n",
    "style.use('fivethirtyeight')\n",
    "import time"
   ]
  },
  {
   "cell_type": "code",
   "execution_count": 3,
   "metadata": {
    "scrolled": true
   },
   "outputs": [
    {
     "name": "stdout",
     "output_type": "stream",
     "text": [
      "(48895, 16)\n"
     ]
    },
    {
     "data": {
      "text/html": [
       "<div>\n",
       "<style scoped>\n",
       "    .dataframe tbody tr th:only-of-type {\n",
       "        vertical-align: middle;\n",
       "    }\n",
       "\n",
       "    .dataframe tbody tr th {\n",
       "        vertical-align: top;\n",
       "    }\n",
       "\n",
       "    .dataframe thead th {\n",
       "        text-align: right;\n",
       "    }\n",
       "</style>\n",
       "<table border=\"1\" class=\"dataframe\">\n",
       "  <thead>\n",
       "    <tr style=\"text-align: right;\">\n",
       "      <th></th>\n",
       "      <th>id</th>\n",
       "      <th>name</th>\n",
       "      <th>host_id</th>\n",
       "      <th>host_name</th>\n",
       "      <th>neighbourhood_group</th>\n",
       "      <th>neighbourhood</th>\n",
       "      <th>latitude</th>\n",
       "      <th>longitude</th>\n",
       "      <th>room_type</th>\n",
       "      <th>price</th>\n",
       "      <th>minimum_nights</th>\n",
       "      <th>number_of_reviews</th>\n",
       "      <th>last_review</th>\n",
       "      <th>reviews_per_month</th>\n",
       "      <th>calculated_host_listings_count</th>\n",
       "      <th>availability_365</th>\n",
       "    </tr>\n",
       "  </thead>\n",
       "  <tbody>\n",
       "    <tr>\n",
       "      <th>0</th>\n",
       "      <td>2539</td>\n",
       "      <td>Clean &amp; quiet apt home by the park</td>\n",
       "      <td>2787</td>\n",
       "      <td>John</td>\n",
       "      <td>Brooklyn</td>\n",
       "      <td>Kensington</td>\n",
       "      <td>40.64749</td>\n",
       "      <td>-73.97237</td>\n",
       "      <td>Private room</td>\n",
       "      <td>149</td>\n",
       "      <td>1</td>\n",
       "      <td>9</td>\n",
       "      <td>2018-10-19</td>\n",
       "      <td>0.21</td>\n",
       "      <td>6</td>\n",
       "      <td>365</td>\n",
       "    </tr>\n",
       "    <tr>\n",
       "      <th>1</th>\n",
       "      <td>2595</td>\n",
       "      <td>Skylit Midtown Castle</td>\n",
       "      <td>2845</td>\n",
       "      <td>Jennifer</td>\n",
       "      <td>Manhattan</td>\n",
       "      <td>Midtown</td>\n",
       "      <td>40.75362</td>\n",
       "      <td>-73.98377</td>\n",
       "      <td>Entire home/apt</td>\n",
       "      <td>225</td>\n",
       "      <td>1</td>\n",
       "      <td>45</td>\n",
       "      <td>2019-05-21</td>\n",
       "      <td>0.38</td>\n",
       "      <td>2</td>\n",
       "      <td>355</td>\n",
       "    </tr>\n",
       "    <tr>\n",
       "      <th>2</th>\n",
       "      <td>3647</td>\n",
       "      <td>THE VILLAGE OF HARLEM....NEW YORK !</td>\n",
       "      <td>4632</td>\n",
       "      <td>Elisabeth</td>\n",
       "      <td>Manhattan</td>\n",
       "      <td>Harlem</td>\n",
       "      <td>40.80902</td>\n",
       "      <td>-73.94190</td>\n",
       "      <td>Private room</td>\n",
       "      <td>150</td>\n",
       "      <td>3</td>\n",
       "      <td>0</td>\n",
       "      <td>NaN</td>\n",
       "      <td>NaN</td>\n",
       "      <td>1</td>\n",
       "      <td>365</td>\n",
       "    </tr>\n",
       "    <tr>\n",
       "      <th>3</th>\n",
       "      <td>3831</td>\n",
       "      <td>Cozy Entire Floor of Brownstone</td>\n",
       "      <td>4869</td>\n",
       "      <td>LisaRoxanne</td>\n",
       "      <td>Brooklyn</td>\n",
       "      <td>Clinton Hill</td>\n",
       "      <td>40.68514</td>\n",
       "      <td>-73.95976</td>\n",
       "      <td>Entire home/apt</td>\n",
       "      <td>89</td>\n",
       "      <td>1</td>\n",
       "      <td>270</td>\n",
       "      <td>2019-07-05</td>\n",
       "      <td>4.64</td>\n",
       "      <td>1</td>\n",
       "      <td>194</td>\n",
       "    </tr>\n",
       "    <tr>\n",
       "      <th>4</th>\n",
       "      <td>5022</td>\n",
       "      <td>Entire Apt: Spacious Studio/Loft by central park</td>\n",
       "      <td>7192</td>\n",
       "      <td>Laura</td>\n",
       "      <td>Manhattan</td>\n",
       "      <td>East Harlem</td>\n",
       "      <td>40.79851</td>\n",
       "      <td>-73.94399</td>\n",
       "      <td>Entire home/apt</td>\n",
       "      <td>80</td>\n",
       "      <td>10</td>\n",
       "      <td>9</td>\n",
       "      <td>2018-11-19</td>\n",
       "      <td>0.10</td>\n",
       "      <td>1</td>\n",
       "      <td>0</td>\n",
       "    </tr>\n",
       "  </tbody>\n",
       "</table>\n",
       "</div>"
      ],
      "text/plain": [
       "     id                                              name  host_id  \\\n",
       "0  2539                Clean & quiet apt home by the park     2787   \n",
       "1  2595                             Skylit Midtown Castle     2845   \n",
       "2  3647               THE VILLAGE OF HARLEM....NEW YORK !     4632   \n",
       "3  3831                   Cozy Entire Floor of Brownstone     4869   \n",
       "4  5022  Entire Apt: Spacious Studio/Loft by central park     7192   \n",
       "\n",
       "     host_name neighbourhood_group neighbourhood  latitude  longitude  \\\n",
       "0         John            Brooklyn    Kensington  40.64749  -73.97237   \n",
       "1     Jennifer           Manhattan       Midtown  40.75362  -73.98377   \n",
       "2    Elisabeth           Manhattan        Harlem  40.80902  -73.94190   \n",
       "3  LisaRoxanne            Brooklyn  Clinton Hill  40.68514  -73.95976   \n",
       "4        Laura           Manhattan   East Harlem  40.79851  -73.94399   \n",
       "\n",
       "         room_type  price  minimum_nights  number_of_reviews last_review  \\\n",
       "0     Private room    149               1                  9  2018-10-19   \n",
       "1  Entire home/apt    225               1                 45  2019-05-21   \n",
       "2     Private room    150               3                  0         NaN   \n",
       "3  Entire home/apt     89               1                270  2019-07-05   \n",
       "4  Entire home/apt     80              10                  9  2018-11-19   \n",
       "\n",
       "   reviews_per_month  calculated_host_listings_count  availability_365  \n",
       "0               0.21                               6               365  \n",
       "1               0.38                               2               355  \n",
       "2                NaN                               1               365  \n",
       "3               4.64                               1               194  \n",
       "4               0.10                               1                 0  "
      ]
     },
     "execution_count": 3,
     "metadata": {},
     "output_type": "execute_result"
    }
   ],
   "source": [
    "data = pd.read_csv('AB_NYC_2019.csv')\n",
    "data.dropna(how='all')\n",
    "print(data.shape)\n",
    "data.head()"
   ]
  },
  {
   "cell_type": "markdown",
   "metadata": {},
   "source": [
    "# Data Exploration and Pre-processing"
   ]
  },
  {
   "cell_type": "code",
   "execution_count": 4,
   "metadata": {},
   "outputs": [
    {
     "data": {
      "text/plain": [
       "id                                    0\n",
       "name                                 16\n",
       "host_id                               0\n",
       "host_name                            21\n",
       "neighbourhood_group                   0\n",
       "neighbourhood                         0\n",
       "latitude                              0\n",
       "longitude                             0\n",
       "room_type                             0\n",
       "price                                 0\n",
       "minimum_nights                        0\n",
       "number_of_reviews                     0\n",
       "last_review                       10052\n",
       "reviews_per_month                 10052\n",
       "calculated_host_listings_count        0\n",
       "availability_365                      0\n",
       "dtype: int64"
      ]
     },
     "execution_count": 4,
     "metadata": {},
     "output_type": "execute_result"
    }
   ],
   "source": [
    "data.isna().sum()"
   ]
  },
  {
   "cell_type": "code",
   "execution_count": 5,
   "metadata": {},
   "outputs": [],
   "source": [
    "#get rid of NaN values, replasing them with 0\n",
    "data[['last_review','reviews_per_month']] = data[['last_review','reviews_per_month']].fillna(0)"
   ]
  },
  {
   "cell_type": "code",
   "execution_count": 6,
   "metadata": {},
   "outputs": [
    {
     "data": {
      "text/html": [
       "<div>\n",
       "<style scoped>\n",
       "    .dataframe tbody tr th:only-of-type {\n",
       "        vertical-align: middle;\n",
       "    }\n",
       "\n",
       "    .dataframe tbody tr th {\n",
       "        vertical-align: top;\n",
       "    }\n",
       "\n",
       "    .dataframe thead th {\n",
       "        text-align: right;\n",
       "    }\n",
       "</style>\n",
       "<table border=\"1\" class=\"dataframe\">\n",
       "  <thead>\n",
       "    <tr style=\"text-align: right;\">\n",
       "      <th></th>\n",
       "      <th>id</th>\n",
       "      <th>name</th>\n",
       "      <th>host_id</th>\n",
       "      <th>host_name</th>\n",
       "      <th>neighbourhood_group</th>\n",
       "      <th>neighbourhood</th>\n",
       "      <th>latitude</th>\n",
       "      <th>longitude</th>\n",
       "      <th>room_type</th>\n",
       "      <th>price</th>\n",
       "      <th>minimum_nights</th>\n",
       "      <th>number_of_reviews</th>\n",
       "      <th>last_review</th>\n",
       "      <th>reviews_per_month</th>\n",
       "      <th>calculated_host_listings_count</th>\n",
       "      <th>availability_365</th>\n",
       "    </tr>\n",
       "  </thead>\n",
       "  <tbody>\n",
       "    <tr>\n",
       "      <th>23161</th>\n",
       "      <td>18750597</td>\n",
       "      <td>Huge Brooklyn Brownstone Living, Close to it all.</td>\n",
       "      <td>8993084</td>\n",
       "      <td>Kimberly</td>\n",
       "      <td>Brooklyn</td>\n",
       "      <td>Bedford-Stuyvesant</td>\n",
       "      <td>40.69023</td>\n",
       "      <td>-73.95428</td>\n",
       "      <td>Private room</td>\n",
       "      <td>0</td>\n",
       "      <td>4</td>\n",
       "      <td>1</td>\n",
       "      <td>2018-01-06</td>\n",
       "      <td>0.05</td>\n",
       "      <td>4</td>\n",
       "      <td>28</td>\n",
       "    </tr>\n",
       "    <tr>\n",
       "      <th>25433</th>\n",
       "      <td>20333471</td>\n",
       "      <td>★Hostel Style Room | Ideal Traveling Buddies★</td>\n",
       "      <td>131697576</td>\n",
       "      <td>Anisha</td>\n",
       "      <td>Bronx</td>\n",
       "      <td>East Morrisania</td>\n",
       "      <td>40.83296</td>\n",
       "      <td>-73.88668</td>\n",
       "      <td>Private room</td>\n",
       "      <td>0</td>\n",
       "      <td>2</td>\n",
       "      <td>55</td>\n",
       "      <td>2019-06-24</td>\n",
       "      <td>2.56</td>\n",
       "      <td>4</td>\n",
       "      <td>127</td>\n",
       "    </tr>\n",
       "    <tr>\n",
       "      <th>25634</th>\n",
       "      <td>20523843</td>\n",
       "      <td>MARTIAL LOFT 3: REDEMPTION (upstairs, 2nd room)</td>\n",
       "      <td>15787004</td>\n",
       "      <td>Martial Loft</td>\n",
       "      <td>Brooklyn</td>\n",
       "      <td>Bushwick</td>\n",
       "      <td>40.69467</td>\n",
       "      <td>-73.92433</td>\n",
       "      <td>Private room</td>\n",
       "      <td>0</td>\n",
       "      <td>2</td>\n",
       "      <td>16</td>\n",
       "      <td>2019-05-18</td>\n",
       "      <td>0.71</td>\n",
       "      <td>5</td>\n",
       "      <td>0</td>\n",
       "    </tr>\n",
       "    <tr>\n",
       "      <th>25753</th>\n",
       "      <td>20608117</td>\n",
       "      <td>Sunny, Quiet Room in Greenpoint</td>\n",
       "      <td>1641537</td>\n",
       "      <td>Lauren</td>\n",
       "      <td>Brooklyn</td>\n",
       "      <td>Greenpoint</td>\n",
       "      <td>40.72462</td>\n",
       "      <td>-73.94072</td>\n",
       "      <td>Private room</td>\n",
       "      <td>0</td>\n",
       "      <td>2</td>\n",
       "      <td>12</td>\n",
       "      <td>2017-10-27</td>\n",
       "      <td>0.53</td>\n",
       "      <td>2</td>\n",
       "      <td>0</td>\n",
       "    </tr>\n",
       "    <tr>\n",
       "      <th>25778</th>\n",
       "      <td>20624541</td>\n",
       "      <td>Modern apartment in the heart of Williamsburg</td>\n",
       "      <td>10132166</td>\n",
       "      <td>Aymeric</td>\n",
       "      <td>Brooklyn</td>\n",
       "      <td>Williamsburg</td>\n",
       "      <td>40.70838</td>\n",
       "      <td>-73.94645</td>\n",
       "      <td>Entire home/apt</td>\n",
       "      <td>0</td>\n",
       "      <td>5</td>\n",
       "      <td>3</td>\n",
       "      <td>2018-01-02</td>\n",
       "      <td>0.15</td>\n",
       "      <td>1</td>\n",
       "      <td>73</td>\n",
       "    </tr>\n",
       "    <tr>\n",
       "      <th>25794</th>\n",
       "      <td>20639628</td>\n",
       "      <td>Spacious comfortable master bedroom with nice ...</td>\n",
       "      <td>86327101</td>\n",
       "      <td>Adeyemi</td>\n",
       "      <td>Brooklyn</td>\n",
       "      <td>Bedford-Stuyvesant</td>\n",
       "      <td>40.68173</td>\n",
       "      <td>-73.91342</td>\n",
       "      <td>Private room</td>\n",
       "      <td>0</td>\n",
       "      <td>1</td>\n",
       "      <td>93</td>\n",
       "      <td>2019-06-15</td>\n",
       "      <td>4.28</td>\n",
       "      <td>6</td>\n",
       "      <td>176</td>\n",
       "    </tr>\n",
       "    <tr>\n",
       "      <th>25795</th>\n",
       "      <td>20639792</td>\n",
       "      <td>Contemporary bedroom in brownstone with nice view</td>\n",
       "      <td>86327101</td>\n",
       "      <td>Adeyemi</td>\n",
       "      <td>Brooklyn</td>\n",
       "      <td>Bedford-Stuyvesant</td>\n",
       "      <td>40.68279</td>\n",
       "      <td>-73.91170</td>\n",
       "      <td>Private room</td>\n",
       "      <td>0</td>\n",
       "      <td>1</td>\n",
       "      <td>95</td>\n",
       "      <td>2019-06-21</td>\n",
       "      <td>4.37</td>\n",
       "      <td>6</td>\n",
       "      <td>232</td>\n",
       "    </tr>\n",
       "    <tr>\n",
       "      <th>25796</th>\n",
       "      <td>20639914</td>\n",
       "      <td>Cozy yet spacious private brownstone bedroom</td>\n",
       "      <td>86327101</td>\n",
       "      <td>Adeyemi</td>\n",
       "      <td>Brooklyn</td>\n",
       "      <td>Bedford-Stuyvesant</td>\n",
       "      <td>40.68258</td>\n",
       "      <td>-73.91284</td>\n",
       "      <td>Private room</td>\n",
       "      <td>0</td>\n",
       "      <td>1</td>\n",
       "      <td>95</td>\n",
       "      <td>2019-06-23</td>\n",
       "      <td>4.35</td>\n",
       "      <td>6</td>\n",
       "      <td>222</td>\n",
       "    </tr>\n",
       "    <tr>\n",
       "      <th>26259</th>\n",
       "      <td>20933849</td>\n",
       "      <td>the best you can find</td>\n",
       "      <td>13709292</td>\n",
       "      <td>Qiuchi</td>\n",
       "      <td>Manhattan</td>\n",
       "      <td>Murray Hill</td>\n",
       "      <td>40.75091</td>\n",
       "      <td>-73.97597</td>\n",
       "      <td>Entire home/apt</td>\n",
       "      <td>0</td>\n",
       "      <td>3</td>\n",
       "      <td>0</td>\n",
       "      <td>0</td>\n",
       "      <td>0.00</td>\n",
       "      <td>1</td>\n",
       "      <td>0</td>\n",
       "    </tr>\n",
       "    <tr>\n",
       "      <th>26841</th>\n",
       "      <td>21291569</td>\n",
       "      <td>Coliving in Brooklyn! Modern design / Shared room</td>\n",
       "      <td>101970559</td>\n",
       "      <td>Sergii</td>\n",
       "      <td>Brooklyn</td>\n",
       "      <td>Bushwick</td>\n",
       "      <td>40.69211</td>\n",
       "      <td>-73.90670</td>\n",
       "      <td>Shared room</td>\n",
       "      <td>0</td>\n",
       "      <td>30</td>\n",
       "      <td>2</td>\n",
       "      <td>2019-06-22</td>\n",
       "      <td>0.11</td>\n",
       "      <td>6</td>\n",
       "      <td>333</td>\n",
       "    </tr>\n",
       "    <tr>\n",
       "      <th>26866</th>\n",
       "      <td>21304320</td>\n",
       "      <td>Best Coliving space ever! Shared room.</td>\n",
       "      <td>101970559</td>\n",
       "      <td>Sergii</td>\n",
       "      <td>Brooklyn</td>\n",
       "      <td>Bushwick</td>\n",
       "      <td>40.69166</td>\n",
       "      <td>-73.90928</td>\n",
       "      <td>Shared room</td>\n",
       "      <td>0</td>\n",
       "      <td>30</td>\n",
       "      <td>5</td>\n",
       "      <td>2019-05-24</td>\n",
       "      <td>0.26</td>\n",
       "      <td>6</td>\n",
       "      <td>139</td>\n",
       "    </tr>\n",
       "  </tbody>\n",
       "</table>\n",
       "</div>"
      ],
      "text/plain": [
       "             id                                               name    host_id  \\\n",
       "23161  18750597  Huge Brooklyn Brownstone Living, Close to it all.    8993084   \n",
       "25433  20333471      ★Hostel Style Room | Ideal Traveling Buddies★  131697576   \n",
       "25634  20523843    MARTIAL LOFT 3: REDEMPTION (upstairs, 2nd room)   15787004   \n",
       "25753  20608117                    Sunny, Quiet Room in Greenpoint    1641537   \n",
       "25778  20624541      Modern apartment in the heart of Williamsburg   10132166   \n",
       "25794  20639628  Spacious comfortable master bedroom with nice ...   86327101   \n",
       "25795  20639792  Contemporary bedroom in brownstone with nice view   86327101   \n",
       "25796  20639914       Cozy yet spacious private brownstone bedroom   86327101   \n",
       "26259  20933849                              the best you can find   13709292   \n",
       "26841  21291569  Coliving in Brooklyn! Modern design / Shared room  101970559   \n",
       "26866  21304320             Best Coliving space ever! Shared room.  101970559   \n",
       "\n",
       "          host_name neighbourhood_group       neighbourhood  latitude  \\\n",
       "23161      Kimberly            Brooklyn  Bedford-Stuyvesant  40.69023   \n",
       "25433        Anisha               Bronx     East Morrisania  40.83296   \n",
       "25634  Martial Loft            Brooklyn            Bushwick  40.69467   \n",
       "25753        Lauren            Brooklyn          Greenpoint  40.72462   \n",
       "25778       Aymeric            Brooklyn        Williamsburg  40.70838   \n",
       "25794       Adeyemi            Brooklyn  Bedford-Stuyvesant  40.68173   \n",
       "25795       Adeyemi            Brooklyn  Bedford-Stuyvesant  40.68279   \n",
       "25796       Adeyemi            Brooklyn  Bedford-Stuyvesant  40.68258   \n",
       "26259        Qiuchi           Manhattan         Murray Hill  40.75091   \n",
       "26841        Sergii            Brooklyn            Bushwick  40.69211   \n",
       "26866        Sergii            Brooklyn            Bushwick  40.69166   \n",
       "\n",
       "       longitude        room_type  price  minimum_nights  number_of_reviews  \\\n",
       "23161  -73.95428     Private room      0               4                  1   \n",
       "25433  -73.88668     Private room      0               2                 55   \n",
       "25634  -73.92433     Private room      0               2                 16   \n",
       "25753  -73.94072     Private room      0               2                 12   \n",
       "25778  -73.94645  Entire home/apt      0               5                  3   \n",
       "25794  -73.91342     Private room      0               1                 93   \n",
       "25795  -73.91170     Private room      0               1                 95   \n",
       "25796  -73.91284     Private room      0               1                 95   \n",
       "26259  -73.97597  Entire home/apt      0               3                  0   \n",
       "26841  -73.90670      Shared room      0              30                  2   \n",
       "26866  -73.90928      Shared room      0              30                  5   \n",
       "\n",
       "      last_review  reviews_per_month  calculated_host_listings_count  \\\n",
       "23161  2018-01-06               0.05                               4   \n",
       "25433  2019-06-24               2.56                               4   \n",
       "25634  2019-05-18               0.71                               5   \n",
       "25753  2017-10-27               0.53                               2   \n",
       "25778  2018-01-02               0.15                               1   \n",
       "25794  2019-06-15               4.28                               6   \n",
       "25795  2019-06-21               4.37                               6   \n",
       "25796  2019-06-23               4.35                               6   \n",
       "26259           0               0.00                               1   \n",
       "26841  2019-06-22               0.11                               6   \n",
       "26866  2019-05-24               0.26                               6   \n",
       "\n",
       "       availability_365  \n",
       "23161                28  \n",
       "25433               127  \n",
       "25634                 0  \n",
       "25753                 0  \n",
       "25778                73  \n",
       "25794               176  \n",
       "25795               232  \n",
       "25796               222  \n",
       "26259                 0  \n",
       "26841               333  \n",
       "26866               139  "
      ]
     },
     "execution_count": 6,
     "metadata": {},
     "output_type": "execute_result"
    }
   ],
   "source": [
    "data[data.price<10]"
   ]
  },
  {
   "cell_type": "raw",
   "metadata": {},
   "source": [
    "these rows here are obviously result of mistaces, so i will delete them"
   ]
  },
  {
   "cell_type": "code",
   "execution_count": 7,
   "metadata": {},
   "outputs": [],
   "source": [
    "data = data[data['price']>=10]"
   ]
  },
  {
   "cell_type": "code",
   "execution_count": 8,
   "metadata": {},
   "outputs": [
    {
     "name": "stdout",
     "output_type": "stream",
     "text": [
      "minimum_nights\n",
      "0     48137\n",
      "1       415\n",
      "2       138\n",
      "3        57\n",
      "4        10\n",
      "5        52\n",
      "6         8\n",
      "7         5\n",
      "8         5\n",
      "9         7\n",
      "11       38\n",
      "12        1\n",
      "15        1\n",
      "16        5\n",
      "32        4\n",
      "40        1\n",
      "Name: id, dtype: int64\n"
     ]
    }
   ],
   "source": [
    "min_nights = data.groupby(data['minimum_nights']).count()['id']\n",
    "print(min_nights.groupby(min_nights.index // 31).sum())\n",
    "#we can see that after 30'minimum nights' have outliers, i will replase them with 31\n",
    "data['minimum_nights'] = data['minimum_nights'].apply(lambda x: x if x<=31 else 31)"
   ]
  },
  {
   "cell_type": "code",
   "execution_count": 9,
   "metadata": {},
   "outputs": [
    {
     "data": {
      "text/plain": [
       "<a list of 50 Patch objects>"
      ]
     },
     "execution_count": 9,
     "metadata": {},
     "output_type": "execute_result"
    },
    {
     "data": {
      "image/png": "[encoded data removed]",
      "text/plain": [
       "<Figure size 432x288 with 1 Axes>"
      ]
     },
     "metadata": {
      "needs_background": "light"
     },
     "output_type": "display_data"
    }
   ],
   "source": [
    "plt.hist(data['minimum_nights'],bins = 50)[2]"
   ]
  },
  {
   "cell_type": "code",
   "execution_count": 10,
   "metadata": {},
   "outputs": [
    {
     "data": {
      "text/plain": [
       "<a list of 100 Patch objects>"
      ]
     },
     "execution_count": 10,
     "metadata": {},
     "output_type": "execute_result"
    },
    {
     "data": {
      "image/png": "[encoded data removed]",
      "text/plain": [
       "<Figure size 432x288 with 1 Axes>"
      ]
     },
     "metadata": {
      "needs_background": "light"
     },
     "output_type": "display_data"
    }
   ],
   "source": [
    "plt.hist(data['number_of_reviews'],bins=100)[2]"
   ]
  },
  {
   "cell_type": "code",
   "execution_count": 11,
   "metadata": {},
   "outputs": [],
   "source": [
    "#acording to histogram, 'number of reviews'> 200 are outliers, they are replaced with 200\n",
    "data['number_of_reviews'] = data['number_of_reviews'].apply(lambda x: x if x<=200 else 200)"
   ]
  },
  {
   "cell_type": "code",
   "execution_count": 12,
   "metadata": {},
   "outputs": [
    {
     "data": {
      "text/plain": [
       "<a list of 50 Patch objects>"
      ]
     },
     "execution_count": 12,
     "metadata": {},
     "output_type": "execute_result"
    },
    {
     "data": {
      "image/png": "[encoded data removed]",
      "text/plain": [
       "<Figure size 432x288 with 1 Axes>"
      ]
     },
     "metadata": {
      "needs_background": "light"
     },
     "output_type": "display_data"
    }
   ],
   "source": [
    "plt.hist(data['number_of_reviews'][data['number_of_reviews']>20],bins=50)[2]"
   ]
  },
  {
   "cell_type": "code",
   "execution_count": 13,
   "metadata": {},
   "outputs": [],
   "source": [
    "X_df = pd.DataFrame()\n",
    "for categorical_variable in ['room_type','neighbourhood']:\n",
    "    X_df = pd.concat([X_df,pd.get_dummies(data[categorical_variable])],axis=1)\n",
    "    #drop_first=True lead to worse performnse of knn\n",
    "for contionuous_variable in ['minimum_nights','number_of_reviews','reviews_per_month']:\n",
    "    X_df = pd.concat([X_df,data[contionuous_variable]],axis=1)"
   ]
  },
  {
   "cell_type": "code",
   "execution_count": 14,
   "metadata": {},
   "outputs": [
    {
     "name": "stdout",
     "output_type": "stream",
     "text": [
      "(48884, 228)\n",
      "(48884,)\n"
     ]
    },
    {
     "data": {
      "text/plain": [
       "<a list of 500 Patch objects>"
      ]
     },
     "execution_count": 14,
     "metadata": {},
     "output_type": "execute_result"
    },
    {
     "data": {
      "image/png": "[encoded data removed]",
      "text/plain": [
       "<Figure size 432x288 with 1 Axes>"
      ]
     },
     "metadata": {
      "needs_background": "light"
     },
     "output_type": "display_data"
    }
   ],
   "source": [
    "X_df = X_df.reset_index()\n",
    "print(X_df.shape)\n",
    "y_ = data['price'].to_numpy()\n",
    "print(y_.shape)\n",
    "plt.hist(y_,bins=500)[2]\n",
    "#we can see that targer data is not distributed normaly, lets transform it"
   ]
  },
  {
   "cell_type": "code",
   "execution_count": 15,
   "metadata": {},
   "outputs": [
    {
     "data": {
      "text/plain": [
       "[<matplotlib.lines.Line2D at 0x7fb574b61b38>]"
      ]
     },
     "execution_count": 15,
     "metadata": {},
     "output_type": "execute_result"
    },
    {
     "data": {
      "image/png": "[encoded data removed]",
      "text/plain": [
       "<Figure size 432x288 with 1 Axes>"
      ]
     },
     "metadata": {
      "needs_background": "light"
     },
     "output_type": "display_data"
    }
   ],
   "source": [
    "samp = np.log10(y_)\n",
    "x_ = plt.hist(samp,bins=30,density=True,color='b')\n",
    "x1 = x_[1][0]\n",
    "x2 = x_[1][-1]\n",
    "from scipy.stats import norm\n",
    "param = norm.fit(samp)\n",
    "x = np.linspace(x1,x2,48884)\n",
    "pdf_fitted = norm.pdf(x,loc=param[0],scale=param[1])\n",
    "\n",
    "plt.plot(x,pdf_fitted,'r-')"
   ]
  },
  {
   "cell_type": "code",
   "execution_count": 16,
   "metadata": {},
   "outputs": [],
   "source": [
    "y=samp\n",
    "#so far we finished with all features except text data"
   ]
  },
  {
   "cell_type": "markdown",
   "metadata": {},
   "source": [
    "## Cleaning text data"
   ]
  },
  {
   "cell_type": "code",
   "execution_count": 17,
   "metadata": {
    "scrolled": true
   },
   "outputs": [
    {
     "name": "stdout",
     "output_type": "stream",
     "text": [
      "0                     clean quiet apt home park\n",
      "1                          skylit midtown castl\n",
      "2                        villag harlem new york\n",
      "3                    cozi entir floor brownston\n",
      "4    entir apt spaciou studio loft central park\n",
      "5             larg cozi 1br br apt midtown east\n",
      "6                                 blissartsspac\n",
      "7                    larg furnish rm near b'way\n",
      "8                cozi clean guest rm famili apt\n",
      "9              cute cozi lower east side 1bd bd\n",
      "Name: name, dtype: object\n"
     ]
    }
   ],
   "source": [
    "# start_time = time.time()\n",
    "\n",
    "# data.name=data.name.astype(str)\n",
    "# #1 spliting words by uppercase letter. there are some words fully uppercase, we need to first lowercase them to not confuse with those to split\n",
    "# data['name'] = data['name'].apply(lambda x: re.sub(r\"[^a-zA-Z0-9']+\",' ',x))\n",
    "# from nltk import word_tokenize\n",
    "# data['name'] = data['name'].apply(lambda x: word_tokenize(x))\n",
    "# data['name'] = data['name'].apply(lambda x: [word.lower() if word.isupper() else word for word in x])\n",
    "\n",
    "# import more_itertools as mit\n",
    "# data['name'] = data['name'].apply(lambda x: [[ \"\".join(i) for i in mit.split_before(word, pred=lambda s: s.isupper())] for word in x])\n",
    "# data['name'] = data['name'].apply(lambda x: [[ \"\".join(i) for i in mit.split_before(word, pred=lambda s: s.isdigit())] for word in x])\n",
    "# data['name'] = data['name'].apply(lambda x: [j for i in x for j in i])\n",
    "# data['name'] = data['name'].apply(lambda x: [word.lower()for word in x])\n",
    "\n",
    "# data['name'] = data['name'].apply(lambda x: [re.split(r'(\\d+)', word) for word in x])\n",
    "# data['name'] = data['name'].apply(lambda x: [j for i in x for j in i])\n",
    "            \n",
    "# from nltk.corpus import stopwords\n",
    "# stop_words = set(stopwords.words('english'))\n",
    "# data['name'] = data['name'].apply(lambda x: [word for word in x if word not in stop_words])\n",
    "# data['name'] = data['name'].apply(lambda x: [word for word in x if word !=''])\n",
    "\n",
    "# from nltk.stem import WordNetLemmatizer\n",
    "# lem = WordNetLemmatizer()\n",
    "# data['name'] = data['name'].apply(lambda x: [lem.lemmatize(word,'v') for word in x])\n",
    "# from nltk.stem import PorterStemmer \n",
    "# ps = PorterStemmer()\n",
    "# data['name'] = data['name'].apply(lambda x: [ps.stem(word) for word in x])\n",
    "\n",
    "# data['name'] = data['name'].apply(lambda x: [re.sub(r'^ap+[artm]+.*','apt',word) for word in x])\n",
    "# data['name'] = data['name'].apply(lambda x: [re.sub(r'^ro*m','rm',word) for word in x])\n",
    "# data['name'] = data['name'].apply(lambda x: [re.sub(r'^lux.*','lux', word) for word in x])\n",
    "# data['name'] = data['name'].apply(lambda x: [re.sub(r'^light.*','light', word) for word in x])\n",
    "# data['name'] = data['name'].apply(lambda x: [re.sub(r'^be*d[rm].*','bd', word) for word in x])\n",
    "# data['name'] = data['name'].apply(lambda x: [re.sub(r'^ba*th.*','bth', word) for word in x])\n",
    "# data['name'] = data['name'].apply(lambda x: [re.sub(r'^b[kr]o*[kl].*','Brooklyn', word) for word in x])\n",
    "# data['name'] = data['name'].apply(lambda x: [re.sub(r'^ma*nht+a*n','Manhattan', word) for word in x])\n",
    "# data['name'] = data['name'].apply(lambda x: [re.sub(r'^rail.*','train', word) for word in x])\n",
    "# data['name'] = data['name'].apply(lambda x: [re.sub(r'^sun.*','sun', word) for word in x])\n",
    "# data['name'] = data['name'].apply(lambda x: [re.sub(r'^styl.*','style', word) for word in x])\n",
    "# data['name'] = data['name'].apply(lambda x: [re.sub(r'^subw.*','sub', word) for word in x])\n",
    "# data['name'] = data['name'].apply(lambda x: [re.sub(r'^up[twnper]*.*','uptwn', word) for word in x])\n",
    "# data['name'] = data['name'].apply(lambda x: [re.sub(r'^n[eigh]*b+[hod]*.*','nb', word) for word in x])\n",
    "# data['name'] = data['name'].apply(lambda x: [re.sub(r'^b[eau]*t+.*','beaut', word) for word in x])\n",
    "# data['name'] = data['name'].apply(lambda x: [re.sub(r'^w[ilia]*[nmsb]+.+','wlmsbrg', word) for word in x])\n",
    "# data['name'] = data['name'].apply(lambda x: [re.sub(r'^.*hous.*','house', word) for word in x])\n",
    "# data['name'] = data['name'].apply(lambda x: [re.sub(r'^minut','min', word) for word in x])\n",
    "# data['name'] = data['name'].apply(lambda x: [re.sub(r'^sq[uf].*','sq', word) for word in x])\n",
    "\n",
    "# for apt in data['name']:\n",
    "#     for i in range(len(apt)-1):\n",
    "#         if apt[i].isdigit():\n",
    "#             apt[i] = apt[i]+apt[i+1]\n",
    "# data['name'] = data['name'].apply(lambda x: [word for word in x if not word.isdigit()])\n",
    "# data['name'] = data['name'].apply(lambda x: ' '.join(x))\n",
    "\n",
    "# pickle.dump(data['name'],open('name_cleared','wb'))\n",
    "# print(\"--- %s seconds ---\" % (time.time() - start_time))\n",
    "\n",
    "data['name']=pickle.load(open('name_cleared','rb'))\n",
    "print(data['name'][:10])"
   ]
  },
  {
   "cell_type": "markdown",
   "metadata": {},
   "source": [
    "23 seconds"
   ]
  },
  {
   "cell_type": "markdown",
   "metadata": {},
   "source": [
    "## Extracting words from the cleared text data"
   ]
  },
  {
   "cell_type": "code",
   "execution_count": 18,
   "metadata": {},
   "outputs": [
    {
     "name": "stdout",
     "output_type": "stream",
     "text": [
      "Index(['000sf', '000sq', '0min', '1000sq', '100night', '100privat', '100sq',\n",
      "       '105th', '108th', '10br'],\n",
      "      dtype='object') Index(['walkabl', 'walkup', 'wall', 'war', 'warm', 'warmth', 'warner', 'water',\n",
      "       'waterfront', 'waterview'],\n",
      "      dtype='object') Index(['young', 'youth', 'yr', 'yurt', 'zen', 'zero', 'zimmer', 'zona', 'zone',\n",
      "       'zoo'],\n",
      "      dtype='object')\n"
     ]
    }
   ],
   "source": [
    "# from sklearn.feature_extraction.text import CountVectorizer\n",
    "# count = CountVectorizer(max_df = 0.1,min_df=0.00003)\n",
    "# features_name = count.fit_transform(data['name'])\n",
    "# print(features_name.shape[1])\n",
    "# print(type(features_name))\n",
    "\n",
    "# words_df = pd.DataFrame(features_name.toarray(), columns=count.get_feature_names())\n",
    "# X_all_words = words_df.to_numpy()\n",
    "# pickle.dump(words_df,open('words_df','wb'))\n",
    "# pickle.dump(X_all_words,open('X_all_words','wb'))\n",
    "\n",
    "words_df = pickle.load(open('words_df','rb'))\n",
    "print(words_df.columns[:10],words_df.columns[3000:3010],words_df.columns[-10:])\n",
    "#DataFrame containing counts for 3097 words\n",
    "X_all_words = pickle.load(open('X_all_words','rb'))\n",
    "#an array containing counts for 3097 words"
   ]
  },
  {
   "cell_type": "markdown",
   "metadata": {},
   "source": [
    "## Grouping the words"
   ]
  },
  {
   "cell_type": "raw",
   "metadata": {},
   "source": [
    "So we have 3097 words that might be useful for us, as big data sets are time and memory consuming, our task is to divide it on categories. First what I tried to do is to cluster words acording to how many times it appeared in specific price category. Then I lernt PLS algorithm, algorithm that transform data to much smaller data set, wich is linear combination of all 'words' that is highly correlated with the target data"
   ]
  },
  {
   "cell_type": "markdown",
   "metadata": {},
   "source": [
    "## Clustering the words:"
   ]
  },
  {
   "cell_type": "code",
   "execution_count": 19,
   "metadata": {},
   "outputs": [
    {
     "name": "stderr",
     "output_type": "stream",
     "text": [
      "/home/anna/anaconda3/lib/python3.7/site-packages/ipykernel_launcher.py:4: SettingWithCopyWarning: \n",
      "A value is trying to be set on a copy of a slice from a DataFrame\n",
      "\n",
      "See the caveats in the documentation: http://pandas.pydata.org/pandas-docs/stable/indexing.html#indexing-view-versus-copy\n",
      "  after removing the cwd from sys.path.\n",
      "/home/anna/anaconda3/lib/python3.7/site-packages/ipykernel_launcher.py:8: SettingWithCopyWarning: \n",
      "A value is trying to be set on a copy of a slice from a DataFrame\n",
      "\n",
      "See the caveats in the documentation: http://pandas.pydata.org/pandas-docs/stable/indexing.html#indexing-view-versus-copy\n",
      "  \n",
      "/home/anna/anaconda3/lib/python3.7/site-packages/ipykernel_launcher.py:13: SettingWithCopyWarning: \n",
      "A value is trying to be set on a copy of a slice from a DataFrame\n",
      "\n",
      "See the caveats in the documentation: http://pandas.pydata.org/pandas-docs/stable/indexing.html#indexing-view-versus-copy\n",
      "  del sys.path[0]\n",
      "/home/anna/anaconda3/lib/python3.7/site-packages/ipykernel_launcher.py:18: SettingWithCopyWarning: \n",
      "A value is trying to be set on a copy of a slice from a DataFrame\n",
      "\n",
      "See the caveats in the documentation: http://pandas.pydata.org/pandas-docs/stable/indexing.html#indexing-view-versus-copy\n"
     ]
    },
    {
     "name": "stdout",
     "output_type": "stream",
     "text": [
      "15750\n",
      "937\n",
      "298\n",
      "category\n",
      "1.0    31899\n",
      "2.0    15750\n",
      "3.0      937\n",
      "4.0      298\n",
      "Name: id, dtype: int64\n"
     ]
    }
   ],
   "source": [
    "data[\"category\"] = np.nan\n",
    "\n",
    "condition = data['price']<150\n",
    "data['category'][condition]=1\n",
    "class_1 = data[condition]\n",
    "\n",
    "condition = (data['price']>=150)&(data['price']<500)\n",
    "data['category'][condition]=2\n",
    "class_2 = data[condition]\n",
    "print(class_2.shape[0])\n",
    "\n",
    "condition = (data['price']>=500)&(data['price']<1000)\n",
    "data['category'][condition]=3\n",
    "class_3 = data[condition]\n",
    "print(class_3.shape[0])\n",
    "\n",
    "condition = data['price']>=1000\n",
    "data['category'][condition]=4\n",
    "class_4 = data[condition]\n",
    "print(class_4.shape[0])\n",
    "\n",
    "each_category_amount = data.groupby('category').count()['id']\n",
    "print(each_category_amount)"
   ]
  },
  {
   "cell_type": "code",
   "execution_count": 20,
   "metadata": {},
   "outputs": [
    {
     "data": {
      "text/html": [
       "<div>\n",
       "<style scoped>\n",
       "    .dataframe tbody tr th:only-of-type {\n",
       "        vertical-align: middle;\n",
       "    }\n",
       "\n",
       "    .dataframe tbody tr th {\n",
       "        vertical-align: top;\n",
       "    }\n",
       "\n",
       "    .dataframe thead th {\n",
       "        text-align: right;\n",
       "    }\n",
       "</style>\n",
       "<table border=\"1\" class=\"dataframe\">\n",
       "  <thead>\n",
       "    <tr style=\"text-align: right;\">\n",
       "      <th></th>\n",
       "      <th>000sf</th>\n",
       "      <th>000sq</th>\n",
       "      <th>0min</th>\n",
       "      <th>1000sq</th>\n",
       "      <th>100night</th>\n",
       "      <th>100privat</th>\n",
       "      <th>100sq</th>\n",
       "      <th>105th</th>\n",
       "      <th>108th</th>\n",
       "      <th>10br</th>\n",
       "      <th>...</th>\n",
       "      <th>young</th>\n",
       "      <th>youth</th>\n",
       "      <th>yr</th>\n",
       "      <th>yurt</th>\n",
       "      <th>zen</th>\n",
       "      <th>zero</th>\n",
       "      <th>zimmer</th>\n",
       "      <th>zona</th>\n",
       "      <th>zone</th>\n",
       "      <th>zoo</th>\n",
       "    </tr>\n",
       "  </thead>\n",
       "  <tbody>\n",
       "    <tr>\n",
       "      <th>0</th>\n",
       "      <td>0</td>\n",
       "      <td>0</td>\n",
       "      <td>0</td>\n",
       "      <td>0</td>\n",
       "      <td>0</td>\n",
       "      <td>0</td>\n",
       "      <td>0</td>\n",
       "      <td>0</td>\n",
       "      <td>0</td>\n",
       "      <td>0</td>\n",
       "      <td>...</td>\n",
       "      <td>0</td>\n",
       "      <td>0</td>\n",
       "      <td>0</td>\n",
       "      <td>0</td>\n",
       "      <td>0</td>\n",
       "      <td>0</td>\n",
       "      <td>0</td>\n",
       "      <td>0</td>\n",
       "      <td>0</td>\n",
       "      <td>0</td>\n",
       "    </tr>\n",
       "    <tr>\n",
       "      <th>1</th>\n",
       "      <td>0</td>\n",
       "      <td>0</td>\n",
       "      <td>0</td>\n",
       "      <td>0</td>\n",
       "      <td>0</td>\n",
       "      <td>0</td>\n",
       "      <td>0</td>\n",
       "      <td>0</td>\n",
       "      <td>0</td>\n",
       "      <td>0</td>\n",
       "      <td>...</td>\n",
       "      <td>0</td>\n",
       "      <td>0</td>\n",
       "      <td>0</td>\n",
       "      <td>0</td>\n",
       "      <td>0</td>\n",
       "      <td>0</td>\n",
       "      <td>0</td>\n",
       "      <td>0</td>\n",
       "      <td>0</td>\n",
       "      <td>0</td>\n",
       "    </tr>\n",
       "    <tr>\n",
       "      <th>2</th>\n",
       "      <td>0</td>\n",
       "      <td>0</td>\n",
       "      <td>0</td>\n",
       "      <td>0</td>\n",
       "      <td>0</td>\n",
       "      <td>0</td>\n",
       "      <td>0</td>\n",
       "      <td>0</td>\n",
       "      <td>0</td>\n",
       "      <td>0</td>\n",
       "      <td>...</td>\n",
       "      <td>0</td>\n",
       "      <td>0</td>\n",
       "      <td>0</td>\n",
       "      <td>0</td>\n",
       "      <td>0</td>\n",
       "      <td>0</td>\n",
       "      <td>0</td>\n",
       "      <td>0</td>\n",
       "      <td>0</td>\n",
       "      <td>0</td>\n",
       "    </tr>\n",
       "    <tr>\n",
       "      <th>3</th>\n",
       "      <td>0</td>\n",
       "      <td>0</td>\n",
       "      <td>0</td>\n",
       "      <td>0</td>\n",
       "      <td>0</td>\n",
       "      <td>0</td>\n",
       "      <td>0</td>\n",
       "      <td>0</td>\n",
       "      <td>0</td>\n",
       "      <td>0</td>\n",
       "      <td>...</td>\n",
       "      <td>0</td>\n",
       "      <td>0</td>\n",
       "      <td>0</td>\n",
       "      <td>0</td>\n",
       "      <td>0</td>\n",
       "      <td>0</td>\n",
       "      <td>0</td>\n",
       "      <td>0</td>\n",
       "      <td>0</td>\n",
       "      <td>0</td>\n",
       "    </tr>\n",
       "    <tr>\n",
       "      <th>4</th>\n",
       "      <td>0</td>\n",
       "      <td>0</td>\n",
       "      <td>0</td>\n",
       "      <td>0</td>\n",
       "      <td>0</td>\n",
       "      <td>0</td>\n",
       "      <td>0</td>\n",
       "      <td>0</td>\n",
       "      <td>0</td>\n",
       "      <td>0</td>\n",
       "      <td>...</td>\n",
       "      <td>0</td>\n",
       "      <td>0</td>\n",
       "      <td>0</td>\n",
       "      <td>0</td>\n",
       "      <td>0</td>\n",
       "      <td>0</td>\n",
       "      <td>0</td>\n",
       "      <td>0</td>\n",
       "      <td>0</td>\n",
       "      <td>0</td>\n",
       "    </tr>\n",
       "  </tbody>\n",
       "</table>\n",
       "<p>5 rows × 3097 columns</p>\n",
       "</div>"
      ],
      "text/plain": [
       "   000sf  000sq  0min  1000sq  100night  100privat  100sq  105th  108th  10br  \\\n",
       "0      0      0     0       0         0          0      0      0      0     0   \n",
       "1      0      0     0       0         0          0      0      0      0     0   \n",
       "2      0      0     0       0         0          0      0      0      0     0   \n",
       "3      0      0     0       0         0          0      0      0      0     0   \n",
       "4      0      0     0       0         0          0      0      0      0     0   \n",
       "\n",
       "   ...  young  youth  yr  yurt  zen  zero  zimmer  zona  zone  zoo  \n",
       "0  ...      0      0   0     0    0     0       0     0     0    0  \n",
       "1  ...      0      0   0     0    0     0       0     0     0    0  \n",
       "2  ...      0      0   0     0    0     0       0     0     0    0  \n",
       "3  ...      0      0   0     0    0     0       0     0     0    0  \n",
       "4  ...      0      0   0     0    0     0       0     0     0    0  \n",
       "\n",
       "[5 rows x 3097 columns]"
      ]
     },
     "execution_count": 20,
     "metadata": {},
     "output_type": "execute_result"
    }
   ],
   "source": [
    "words_df = pickle.load(open('words_df','rb'))\n",
    "words_df.head()\n",
    "# words_category_df = pd.concat([words_df,data.category],axis=1).groupby('category').sum()\n",
    "# words_category_df_T=words_category_df.T\n",
    "# pickle.dump(words_category_df_T,open('words_category_df_T','wb'))"
   ]
  },
  {
   "cell_type": "code",
   "execution_count": 21,
   "metadata": {},
   "outputs": [],
   "source": [
    "words_category_df_T = pickle.load(open('words_category_df_T','rb'))\n",
    "from sklearn.preprocessing import normalize\n",
    "words_category_np_T = normalize(words_category_df_T.to_numpy())\n",
    "\n",
    "# inertia_line = []\n",
    "from sklearn.cluster import KMeans\n",
    "# for i in range(1,101):\n",
    "#     kmeans_i = KMeans(n_clusters=i,init='k-means++',n_jobs=-1)\n",
    "#     kmeans_i.fit_predict(words_category_np_T)\n",
    "#     inertia_line.append(kmeans_i.inertia_)\n",
    "# pickle.dump(inertia_line,open('inertia_KMeans','wb'))"
   ]
  },
  {
   "cell_type": "code",
   "execution_count": 22,
   "metadata": {},
   "outputs": [
    {
     "data": {
      "text/plain": [
       "<matplotlib.legend.Legend at 0x7fb57082ebe0>"
      ]
     },
     "execution_count": 22,
     "metadata": {},
     "output_type": "execute_result"
    },
    {
     "data": {
      "image/png": "[encoded data removed]",
      "text/plain": [
       "<Figure size 432x288 with 1 Axes>"
      ]
     },
     "metadata": {
      "needs_background": "light"
     },
     "output_type": "display_data"
    }
   ],
   "source": [
    "inertia_line = pickle.load(open('inertia_KMeans','rb'))\n",
    "plt.plot(range(1,101),inertia_line,label='inertia')\n",
    "plt.plot(15,inertia_line[14],'or',label='elbow rule')\n",
    "plt.title(\"KMeans words clustering\")\n",
    "plt.legend()"
   ]
  },
  {
   "cell_type": "code",
   "execution_count": 23,
   "metadata": {},
   "outputs": [],
   "source": [
    "kmeans_optimal = KMeans(n_clusters=15,init='k-means++',n_jobs=-1)\n",
    "kmeans_optimal.fit_predict(words_category_df_T.to_numpy())\n",
    "\n",
    "words_category_df_T['cluster']=kmeans_optimal.labels_"
   ]
  },
  {
   "cell_type": "code",
   "execution_count": 24,
   "metadata": {},
   "outputs": [
    {
     "data": {
      "text/plain": [
       "Index(['index', 'Entire home/apt', 'Private room', 'Shared room', 'Allerton',\n",
       "       'Arden Heights', 'Arrochar', 'Arverne', 'Astoria', 'Bath Beach',\n",
       "       ...\n",
       "       'words_cluster_6', 'words_cluster_7', 'words_cluster_8',\n",
       "       'words_cluster_9', 'words_cluster_10', 'words_cluster_11',\n",
       "       'words_cluster_12', 'words_cluster_13', 'words_cluster_14',\n",
       "       'words_cluster_15'],\n",
       "      dtype='object', length=243)"
      ]
     },
     "execution_count": 24,
     "metadata": {},
     "output_type": "execute_result"
    }
   ],
   "source": [
    "for i in range(1,16):\n",
    "    X_df['words_cluster_'+str(i)] = words_df[words_category_df_T.index[words_category_df_T['cluster']==i]].sum(axis=1)\n",
    "    X_df['words_cluster_'+str(i)] = X_df['words_cluster_'+str(i)].fillna(0)\n",
    "X_df.columns"
   ]
  },
  {
   "cell_type": "raw",
   "metadata": {},
   "source": [
    "I will not leave here the results of algorithms' performings for this data as they all are performing better for data obtained with PLS. And slightly better with both"
   ]
  },
  {
   "cell_type": "markdown",
   "metadata": {},
   "source": [
    "## PLS"
   ]
  },
  {
   "cell_type": "code",
   "execution_count": 25,
   "metadata": {},
   "outputs": [],
   "source": [
    "# start_time = time.time()\n",
    "# score_all_words = []\n",
    "# from sklearn.cross_decomposition import PLSRegression\n",
    "# for i in range(1,16):\n",
    "#     pls = PLSRegression(n_components=i)\n",
    "#     pls.fit(X_all_words,y)\n",
    "#     score_all_words.append(pls.score(X_all_words,y))\n",
    "#     print('iteration '+str(i)+'/15 is over')\n",
    "#     pickle.dump(pls, open('pls_words_'+str(i), 'wb'))\n",
    "# pickle.dump(score_all_words, open('score_all_words', 'wb')) \n",
    "# print(\"--- %s minuts ---\" % ((time.time() - start_time)/60))"
   ]
  },
  {
   "cell_type": "markdown",
   "metadata": {},
   "source": [
    "5 min"
   ]
  },
  {
   "cell_type": "code",
   "execution_count": 26,
   "metadata": {},
   "outputs": [
    {
     "data": {
      "text/plain": [
       "<matplotlib.legend.Legend at 0x7fb57074dfd0>"
      ]
     },
     "execution_count": 26,
     "metadata": {},
     "output_type": "execute_result"
    },
    {
     "data": {
      "image/png": "[encoded data removed]",
      "text/plain": [
       "<Figure size 432x288 with 1 Axes>"
      ]
     },
     "metadata": {
      "needs_background": "light"
     },
     "output_type": "display_data"
    }
   ],
   "source": [
    "score_all_words = pickle.load(open('score_all_words','rb'))\n",
    "\n",
    "plt.plot(range(1,16),score_all_words,'g',label = 'r square')\n",
    "plt.title('pls n_components')\n",
    "plt.legend()"
   ]
  },
  {
   "cell_type": "raw",
   "metadata": {},
   "source": [
    "after 8th iteration the graph is flat, it means that 8 components are suffisient to represent all the data['name']"
   ]
  },
  {
   "cell_type": "code",
   "execution_count": 27,
   "metadata": {},
   "outputs": [],
   "source": [
    "pls_words_8 = pickle.load(open('pls_words_8','rb'))\n",
    "X_words, y_pls = pls_words_8.transform(X_all_words,y)"
   ]
  },
  {
   "cell_type": "markdown",
   "metadata": {},
   "source": [
    "# Regression task"
   ]
  },
  {
   "cell_type": "code",
   "execution_count": 28,
   "metadata": {},
   "outputs": [],
   "source": [
    "from sklearn.model_selection import train_test_split\n",
    "from sklearn.preprocessing import StandardScaler\n",
    "scaler = StandardScaler()\n",
    "from sklearn.metrics import mean_squared_error as MSE\n",
    "from sklearn.model_selection import GridSearchCV\n",
    "\n",
    "dict_to_compare_test = {}\n",
    "dict_to_compare_train = {}"
   ]
  },
  {
   "cell_type": "code",
   "execution_count": 29,
   "metadata": {},
   "outputs": [],
   "source": [
    "# X_pls = np.concatenate((X_df.to_numpy(),X_words),axis=1)\n",
    "# X_pls = scaler.fit_transform(X_pls)\n",
    "# pickle.dump(X_pls,open('X_pls','wb'))\n",
    "\n",
    "X_pls = pickle.load(open('X_pls','rb'))\n",
    "num_features = X_pls.shape[1]\n",
    "X_pls_train, X_pls_test, y_train, y_test = train_test_split(X_pls,y,test_size=0.2,random_state = 3)"
   ]
  },
  {
   "cell_type": "code",
   "execution_count": 30,
   "metadata": {},
   "outputs": [
    {
     "name": "stdout",
     "output_type": "stream",
     "text": [
      "0.6348528160477831\n",
      "0.6267994569466386\n",
      "lr_pls.alpha_ =  0.0005\n"
     ]
    }
   ],
   "source": [
    "from sklearn.linear_model import LassoCV\n",
    "lr_pls = LassoCV(alphas=[0.0005],cv=4)\n",
    "lasso_fit = lr_pls.fit(X_pls_train,y_train)\n",
    "y_lr_pls_train_pred = lr_pls.predict(X_pls_train)\n",
    "y_lr_pls_test_pred = lr_pls.predict(X_pls_test)\n",
    "dict_to_compare_train['Linear regression'] = MSE(y_train,y_lr_pls_train_pred)**0.5\n",
    "dict_to_compare_test['Linear regression'] = MSE(y_test,y_lr_pls_test_pred)**0.5\n",
    "print(lr_pls.score(X_pls_train,y_train))\n",
    "print(lr_pls.score(X_pls_test,y_test))\n",
    "\n",
    "print('lr_pls.alpha_ = ',lr_pls.alpha_)"
   ]
  },
  {
   "cell_type": "raw",
   "metadata": {},
   "source": [
    "lr_pls = LassoCV(alphas=[0.1,0.2,0.5],cv=4)\n",
    "lr_pls.alpha_ =  0.1\n",
    "---------------------------------------------------------\n",
    "lr_pls = LassoCV(alphas=[0.01,0.025,0.05,0.1],cv=4)\n",
    "lr_pls.alpha_ =  0.01\n",
    "---------------------------------------------------------\n",
    "lr_pls = LassoCV(alphas=[0.001,0.0025,0.005,0.01],cv=4)\n",
    "lr_pls.alpha_ =  0.001\n",
    "---------------------------------------------------------\n",
    "lr_pls = LassoCV(alphas=[0.0001,0.00025,0.0005,0.0075,0.001],cv=4)\n",
    "lr_pls.alpha_ =  0.0005"
   ]
  },
  {
   "cell_type": "code",
   "execution_count": 31,
   "metadata": {},
   "outputs": [
    {
     "data": {
      "image/png": "[encoded data removed]",
      "text/plain": [
       "<Figure size 432x288 with 1 Axes>"
      ]
     },
     "metadata": {
      "needs_background": "light"
     },
     "output_type": "display_data"
    }
   ],
   "source": [
    "features = np.array(list(X_df.columns)+[1,2,3,4,5,6,7,8])\n",
    "plt.plot(range(num_features),lasso_fit.coef_)\n",
    "plt.xticks(range(num_features),features, rotation=90)\n",
    "plt.show()"
   ]
  },
  {
   "cell_type": "raw",
   "metadata": {},
   "source": [
    "Lasso regression can be used to select important features, so i will delete features that have coefficient 0 in Lasso regression"
   ]
  },
  {
   "cell_type": "code",
   "execution_count": 32,
   "metadata": {},
   "outputs": [
    {
     "data": {
      "text/plain": [
       "array(['Private room', 'Arverne', 'Astoria', 'Belle Harbor',\n",
       "       'Bergen Beach', 'Brighton Beach', 'Cambria Heights',\n",
       "       'Castleton Corners', 'Clason Point', 'Co-op City', 'Columbia St',\n",
       "       'Coney Island', 'Douglaston', 'East Morrisania', 'Eastchester',\n",
       "       'Edgemere', 'Eltingville', 'Flatlands', 'Grymes Hill',\n",
       "       'Jamaica Estates', 'Kew Gardens', 'Lighthouse Hill', 'Little Neck',\n",
       "       'Manhattan Beach', 'Mariners Harbor', 'Morris Park', 'Neponsit',\n",
       "       'North Riverdale', 'Olinville', 'Port Richmond', 'Schuylerville',\n",
       "       'Shore Acres', 'Silver Lake', 'Spuyten Duyvil', 'Todt Hill',\n",
       "       'Tottenville', 'Westchester Square', 'Westerleigh', 'Whitestone',\n",
       "       'number_of_reviews', 'words_cluster_11', 'words_cluster_12',\n",
       "       'words_cluster_13', 'words_cluster_15'], dtype='<U26')"
      ]
     },
     "execution_count": 32,
     "metadata": {},
     "output_type": "execute_result"
    }
   ],
   "source": [
    "features[lasso_fit.coef_==0]"
   ]
  },
  {
   "cell_type": "code",
   "execution_count": 33,
   "metadata": {},
   "outputs": [
    {
     "name": "stdout",
     "output_type": "stream",
     "text": [
      "(207, 48884)\n"
     ]
    }
   ],
   "source": [
    "X_pls = X_pls.T[lasso_fit.coef_!=0]\n",
    "print(X_pls.shape)\n",
    "X_pls_train, X_pls_test, y_train, y_test = train_test_split(X_pls.T,y,test_size=0.2,random_state = 3)"
   ]
  },
  {
   "cell_type": "code",
   "execution_count": 34,
   "metadata": {},
   "outputs": [
    {
     "data": {
      "text/plain": [
       "<a list of 500 Patch objects>"
      ]
     },
     "execution_count": 34,
     "metadata": {},
     "output_type": "execute_result"
    },
    {
     "data": {
      "image/png": "[encoded data removed]",
      "text/plain": [
       "<Figure size 432x288 with 1 Axes>"
      ]
     },
     "metadata": {
      "needs_background": "light"
     },
     "output_type": "display_data"
    }
   ],
   "source": [
    "errors = y_train-y_lr_pls_train_pred\n",
    "plt.hist(errors,bins=500)[2]"
   ]
  },
  {
   "cell_type": "markdown",
   "metadata": {},
   "source": [
    "### Decision tree regressor"
   ]
  },
  {
   "cell_type": "code",
   "execution_count": 35,
   "metadata": {},
   "outputs": [
    {
     "name": "stdout",
     "output_type": "stream",
     "text": [
      "iteration 1/20 is over\n",
      "iteration 2/20 is over\n",
      "iteration 3/20 is over\n",
      "iteration 4/20 is over\n",
      "iteration 5/20 is over\n",
      "iteration 6/20 is over\n",
      "iteration 7/20 is over\n",
      "iteration 8/20 is over\n",
      "iteration 9/20 is over\n",
      "iteration 10/20 is over\n",
      "--- 7.16001296043396 seconds ---\n"
     ]
    }
   ],
   "source": [
    "from sklearn.tree import DecisionTreeRegressor\n",
    "start_time = time.time()\n",
    "\n",
    "train_line_loss_dt_reg_pls= []\n",
    "test_line_loss_dt_reg_pls = []\n",
    "\n",
    "for i in range(1,11):\n",
    "    dt_i = DecisionTreeRegressor(max_depth=i,random_state=21,min_samples_split=0.0001,min_samples_leaf=0.0001)\n",
    "    dt_i.fit(X_pls_train,y_train)\n",
    "\n",
    "    y_dt_reg_pls_train_pred = dt_i.predict(X_pls_train)\n",
    "    y_dt_reg_pls_test_pred = dt_i.predict(X_pls_test)\n",
    "    \n",
    "    train_line_loss_dt_reg_pls.append((MSE(y_train,y_dt_reg_pls_train_pred))**0.5)\n",
    "    test_line_loss_dt_reg_pls.append((MSE(y_test,y_dt_reg_pls_test_pred))**0.5)\n",
    "    pickle.dump(dt_i, open('dt_reg_pls_'+str(i), 'wb'))\n",
    "    print('iteration '+str(i)+'/20 is over')\n",
    "print(\"--- %s seconds ---\" % (time.time() - start_time))"
   ]
  },
  {
   "cell_type": "code",
   "execution_count": 36,
   "metadata": {},
   "outputs": [
    {
     "data": {
      "text/plain": [
       "<matplotlib.legend.Legend at 0x7fb563f2a6d8>"
      ]
     },
     "execution_count": 36,
     "metadata": {},
     "output_type": "execute_result"
    },
    {
     "data": {
      "image/png": "[encoded data removed]",
      "text/plain": [
       "<Figure size 432x288 with 1 Axes>"
      ]
     },
     "metadata": {
      "needs_background": "light"
     },
     "output_type": "display_data"
    }
   ],
   "source": [
    "plt.plot(range(1,11),train_line_loss_dt_reg_pls,'y',label = 'rmse train')\n",
    "plt.plot(range(1,11),test_line_loss_dt_reg_pls,'b', label = 'rmse test')\n",
    "plt.title('dt_reg_pls learning curve')\n",
    "plt.legend()"
   ]
  },
  {
   "cell_type": "raw",
   "metadata": {},
   "source": [
    "I am playing with hyperparameters using learnig curves to find hyperparameters to start with in grid search. We can see that after max_depth = 4, the model is overfitting. As 'min_samples_leaf' and 'min_samples_split' simplify a tree model, we will try biger ones"
   ]
  },
  {
   "cell_type": "code",
   "execution_count": 37,
   "metadata": {},
   "outputs": [
    {
     "name": "stdout",
     "output_type": "stream",
     "text": [
      "{'max_depth': 9, 'min_samples_leaf': 0.01, 'min_samples_split': 1e-05}\n",
      "--- 0.04769182999928792 minuts ---\n",
      "rmse train =  0.1995074204646412 \n",
      "rmse test =  0.20223240275187257\n"
     ]
    }
   ],
   "source": [
    "start_time = time.time()\n",
    "dt_reg_ = DecisionTreeRegressor(random_state=1)\n",
    "params_dt_reg_ = {'max_depth':[9],\n",
    "                  'min_samples_leaf':[0.01],\n",
    "                 'min_samples_split':[0.00001]}\n",
    "grid_dt = GridSearchCV(estimator=dt_reg_,param_grid=params_dt_reg_,cv=4,n_jobs=-1)\n",
    "grid_dt.fit(X_pls_train,y_train)\n",
    "best_model = grid_dt.best_estimator_\n",
    "pickle.dump(best_model,open('best_model_dt_pls','wb'))\n",
    "print(grid_dt.best_params_ )\n",
    "print(\"--- %s minuts ---\" % ((time.time() - start_time)/60))\n",
    "\n",
    "best_model_dt_pls = pickle.load(open('best_model_dt_pls','rb'))\n",
    "y_dt_gs_train_pred = best_model_dt_pls.predict(X_pls_train)\n",
    "y_dt_gs_test_pred = best_model_dt_pls.predict(X_pls_test)\n",
    "dict_to_compare_train['Decision tree'] = MSE(y_train,y_dt_gs_train_pred)**0.5\n",
    "dict_to_compare_test['Decision tree'] = MSE(y_test,y_dt_gs_test_pred)**0.5\n",
    "print('rmse train = ',dict_to_compare_train['Decision tree'],'\\nrmse test = ',dict_to_compare_test['Decision tree'])"
   ]
  },
  {
   "cell_type": "raw",
   "metadata": {},
   "source": [
    "params_dt_reg_ = {'max_depth':[4,5,6,7],\n",
    "                  'min_samples_leaf':[0.0001,0.0005,0.001],\n",
    "                 'min_samples_split':[0.0001,0.0005,0.001]}\n",
    "{'max_depth': 7, 'min_samples_leaf': 0.0005, 'min_samples_split': 0.0001}\n",
    "(0.8 min)\n",
    "------------------------------------------------------------------------\n",
    "params_dt_reg_ = {'max_depth':[7,8,9,10],\n",
    "                  'min_samples_leaf':[0.0001,0.0005,0.001],\n",
    "                 'min_samples_split':[0.00001,0.00005,0.0001]}\n",
    "{'max_depth': 9, 'min_samples_leaf': 0.001, 'min_samples_split': 1e-05}\n",
    "(1 min)\n",
    "------------------------------------------------------------------------\n",
    "params_dt_reg_ = {'max_depth':[8,9,10],\n",
    "                  'min_samples_leaf':[0.001,0.05,0.01],\n",
    "                 'min_samples_split':[0.00001,2]}\n",
    "{'max_depth': 9, 'min_samples_leaf': 0.001, 'min_samples_split': 1e-05}\n",
    "(0.5 min)"
   ]
  },
  {
   "cell_type": "markdown",
   "metadata": {},
   "source": [
    "### Random forest"
   ]
  },
  {
   "cell_type": "code",
   "execution_count": 38,
   "metadata": {},
   "outputs": [
    {
     "name": "stdout",
     "output_type": "stream",
     "text": [
      "iteration 1/15 is over\n",
      "iteration 2/15 is over\n",
      "iteration 3/15 is over\n",
      "iteration 4/15 is over\n",
      "iteration 5/15 is over\n",
      "iteration 6/15 is over\n",
      "iteration 7/15 is over\n",
      "iteration 8/15 is over\n",
      "iteration 9/15 is over\n",
      "iteration 10/15 is over\n",
      "iteration 11/15 is over\n",
      "iteration 12/15 is over\n",
      "iteration 13/15 is over\n",
      "iteration 14/15 is over\n",
      "iteration 15/15 is over\n",
      "--- 6.941027879714966 seconds ---\n"
     ]
    }
   ],
   "source": [
    "from  sklearn.ensemble import RandomForestRegressor\n",
    "\n",
    "start_time = time.time()\n",
    "train_line_loss_rf = []\n",
    "test_line_loss_rf = []\n",
    "\n",
    "for i in range(1,16):\n",
    "    rf =  RandomForestRegressor(n_estimators=i,random_state=1,min_samples_leaf=0.01,min_samples_split=0.003,max_features=0.07)\n",
    "    rf.fit(X_pls_train,y_train)\n",
    "    y_rf_train_pred = rf.predict(X_pls_train)\n",
    "    y_rf_test_pred = rf.predict(X_pls_test)\n",
    "    train_line_loss_rf.append((MSE(y_train,y_rf_train_pred))**0.5)\n",
    "    test_line_loss_rf.append((MSE(y_test,y_rf_test_pred))**0.5)\n",
    "    print('iteration '+str(i)+'/15 is over')\n",
    "print(\"--- %s seconds ---\" % (time.time() - start_time))"
   ]
  },
  {
   "cell_type": "code",
   "execution_count": 39,
   "metadata": {},
   "outputs": [
    {
     "data": {
      "text/plain": [
       "<matplotlib.legend.Legend at 0x7fb563dd1b38>"
      ]
     },
     "execution_count": 39,
     "metadata": {},
     "output_type": "execute_result"
    },
    {
     "data": {
      "image/png": "[encoded data removed]",
      "text/plain": [
       "<Figure size 432x288 with 1 Axes>"
      ]
     },
     "metadata": {
      "needs_background": "light"
     },
     "output_type": "display_data"
    }
   ],
   "source": [
    "plt.plot(range(1,16),train_line_loss_rf,'y',label = 'rmse train')\n",
    "plt.plot(range(1,16),test_line_loss_rf,'b', label = 'rmse test')\n",
    "plt.title('Random forest learning curve')\n",
    "plt.legend()"
   ]
  },
  {
   "cell_type": "code",
   "execution_count": 40,
   "metadata": {},
   "outputs": [
    {
     "name": "stdout",
     "output_type": "stream",
     "text": [
      "Fitting 4 folds for each of 1 candidates, totalling 4 fits\n"
     ]
    },
    {
     "name": "stderr",
     "output_type": "stream",
     "text": [
      "[Parallel(n_jobs=-1)]: Using backend LokyBackend with 4 concurrent workers.\n",
      "[Parallel(n_jobs=-1)]: Done   2 out of   4 | elapsed:   28.0s remaining:   28.0s\n",
      "[Parallel(n_jobs=-1)]: Done   4 out of   4 | elapsed:   28.9s finished\n"
     ]
    },
    {
     "name": "stdout",
     "output_type": "stream",
     "text": [
      "{'max_features': 0.5, 'min_samples_leaf': 0.0001, 'min_samples_split': 0.003, 'n_estimators': 50}\n",
      "--- 0.8011480609575907 minuts ---\n",
      "rmse train =  0.17257498194462337 \n",
      "rmse test =  0.20223240275187257\n"
     ]
    }
   ],
   "source": [
    "# start_time = time.time()\n",
    "# from  sklearn.ensemble import RandomForestRegressor\n",
    "# rf_ = RandomForestRegressor(random_state=1)\n",
    "# params_rf = {'n_estimators':[50],\n",
    "#              'min_samples_leaf':[0.0001],\n",
    "#             'min_samples_split':[0.003],\n",
    "#             'max_features':[0.5]}\n",
    "# grid_rf = GridSearchCV(estimator=rf_,param_grid=params_rf,cv=4,n_jobs=-1,verbose=1)\n",
    "# grid_rf.fit(X_pls_train,y_train)\n",
    "# best_model = grid_rf.best_estimator_\n",
    "# pickle.dump(best_model,open('best_model_rf','wb'))\n",
    "# print(grid_rf.best_params_)\n",
    "# print(\"--- %s minuts ---\" % ((time.time() - start_time)/60))\n",
    "\n",
    "best_model_rf = pickle.load(open('best_model_rf','rb'))\n",
    "y_rf_gs_train_pred = best_model_rf.predict(X_pls_train)\n",
    "y_rf_gs_test_pred = best_model_rf.predict(X_pls_test)\n",
    "dict_to_compare_train['Random forest'] = MSE(y_train,y_rf_gs_train_pred)**0.5\n",
    "dict_to_compare_test['Random forest'] = MSE(y_test,y_dt_gs_test_pred)**0.5\n",
    "print('rmse train = ',dict_to_compare_train['Random forest'],'\\nrmse test = ',dict_to_compare_test['Random forest'])"
   ]
  },
  {
   "cell_type": "raw",
   "metadata": {},
   "source": [
    "params_rf = {'n_estimators':[3,4,5,6,7],\n",
    "             'min_samples_leaf':[0.0001,0.0005,0.001,0.005,0.01],\n",
    "            'min_samples_split':[0.0001,0.0005,0.001,0.003],\n",
    "            'max_features':[0.2,0.25,0.3,0.4,0.5]}\n",
    "{'max_features': 0.5, 'min_samples_leaf': 0.0001, 'min_samples_split': 0.003, 'n_estimators': 7}\n",
    "20 min\n",
    "------------------------------------------------------------------------------------\n",
    "params_rf = {'n_estimators':[7,10,15],\n",
    "             'min_samples_leaf':[0.00001,0.00005,0.0001],\n",
    "            'min_samples_split':[0.003,0.005,0.01],\n",
    "            'max_features':[0.5,0.07,0.1]}\n",
    "{'max_features': 0.5, 'min_samples_leaf': 0.0001, 'min_samples_split': 0.003, 'n_estimators': 15}\n",
    "6 min\n",
    "--------------------------------------------------------------------------------------\n",
    "params_rf = {'n_estimators':[15,20,25,50],\n",
    "             'min_samples_leaf':[0.0001],\n",
    "            'min_samples_split':[0.003],\n",
    "            'max_features':[0.5]}\n",
    "{'max_features': 0.5, 'min_samples_leaf': 0.0001, 'min_samples_split': 0.003, 'n_estimators': 50}\n",
    "2 min"
   ]
  },
  {
   "cell_type": "markdown",
   "metadata": {},
   "source": [
    "### Adaboost"
   ]
  },
  {
   "cell_type": "code",
   "execution_count": 41,
   "metadata": {},
   "outputs": [],
   "source": [
    "from sklearn.ensemble import AdaBoostRegressor\n",
    "\n",
    "# train_line_loss_ada = []\n",
    "# test_line_loss_ada = []\n",
    "\n",
    "# for i in range(1,16):\n",
    "#     regr = AdaBoostRegressor(base_estimator=DecisionTreeRegressor(max_depth=2),random_state=21, n_estimators=i)\n",
    "#     regr.fit(X_pls_train, y_train)\n",
    "#     y_ada_train_pred = regr.predict(X_pls_train)\n",
    "#     y_ada_test_pred = regr.predict(X_pls_test)\n",
    "#     train_line_loss_ada.append((MSE(y_train,y_ada_train_pred))**0.5)\n",
    "#     test_line_loss_ada.append((MSE(y_test,y_ada_test_pred))**0.5)\n",
    "#     print(str(i)+'/15')\n",
    "# pickle.dump(train_line_loss_ada,open('train_line_loss_ada','wb'))\n",
    "# pickle.dump(test_line_loss_ada,open('test_line_loss_ada','wb'))"
   ]
  },
  {
   "cell_type": "code",
   "execution_count": 42,
   "metadata": {},
   "outputs": [
    {
     "data": {
      "text/plain": [
       "<matplotlib.legend.Legend at 0x7fb563d28eb8>"
      ]
     },
     "execution_count": 42,
     "metadata": {},
     "output_type": "execute_result"
    },
    {
     "data": {
      "image/png": "[encoded data removed]",
      "text/plain": [
       "<Figure size 432x288 with 1 Axes>"
      ]
     },
     "metadata": {
      "needs_background": "light"
     },
     "output_type": "display_data"
    }
   ],
   "source": [
    "train_line_loss_ada = pickle.load(open('train_line_loss_ada','rb'))\n",
    "test_line_loss_ada = pickle.load(open('test_line_loss_ada','rb'))\n",
    "plt.plot(range(1,16),train_line_loss_ada,'y',label = 'rmse train')\n",
    "plt.plot(range(1,16),test_line_loss_ada,'b', label = 'rmse test')\n",
    "plt.title('ada learning curve')\n",
    "plt.legend()"
   ]
  },
  {
   "cell_type": "code",
   "execution_count": 43,
   "metadata": {},
   "outputs": [],
   "source": [
    "dict_to_compare_train['AdaBoost'] = train_line_loss_ada[3]\n",
    "dict_to_compare_test['AdaBoost'] = test_line_loss_ada[3]"
   ]
  },
  {
   "cell_type": "markdown",
   "metadata": {},
   "source": [
    "### Gradient boosting regressor"
   ]
  },
  {
   "cell_type": "code",
   "execution_count": 44,
   "metadata": {},
   "outputs": [],
   "source": [
    "# from sklearn.ensemble import GradientBoostingRegressor\n",
    "\n",
    "# start_time = time.time()\n",
    "\n",
    "# regr = GradientBoostingRegressor(random_state=1)\n",
    "# params_regr = {'max_depth':[6],\n",
    "#                   'n_estimators':[150]}\n",
    "# grid_regr = GridSearchCV(estimator=regr,param_grid=params_regr,cv=4,n_jobs=-1,verbose = 1)\n",
    "# grid_regr.fit(X_pls_train,y_train)\n",
    "# best_model = grid_regr.best_estimator_\n",
    "# pickle.dump(best_model,open('best_model_gb_gs','wb'))\n",
    "# print(grid_regr.best_params_ )\n",
    "# print(\"--- %s minuts ---\" % ((time.time() - start_time)/60))\n",
    "\n",
    "best_model = pickle.load(open('best_model_gb_gs','rb'))\n",
    "y_grboost_train_pred = best_model.predict(X_pls_train)\n",
    "y_grboost_test_pred = best_model.predict(X_pls_test)\n",
    "dict_to_compare_train['GradientBoost'] = MSE(y_train,y_grboost_train_pred)**0.5\n",
    "dict_to_compare_test['GradientBoost'] = MSE(y_test,y_grboost_test_pred)**0.5"
   ]
  },
  {
   "cell_type": "raw",
   "metadata": {},
   "source": [
    "params_regr = {'max_depth':[5,6,7],\n",
    "                  'n_estimators':[25,50,100,150]}\n",
    "{'max_depth': 6, 'n_estimators': 150}"
   ]
  },
  {
   "cell_type": "markdown",
   "metadata": {},
   "source": [
    "## Summary of regression problem"
   ]
  },
  {
   "cell_type": "code",
   "execution_count": 45,
   "metadata": {},
   "outputs": [
    {
     "data": {
      "text/plain": [
       "<matplotlib.legend.Legend at 0x7fb563ca3630>"
      ]
     },
     "execution_count": 45,
     "metadata": {},
     "output_type": "execute_result"
    },
    {
     "data": {
      "image/png": "[encoded data removed]",
      "text/plain": [
       "<Figure size 432x288 with 1 Axes>"
      ]
     },
     "metadata": {
      "needs_background": "light"
     },
     "output_type": "display_data"
    }
   ],
   "source": [
    "plt.plot(dict_to_compare_test.keys(),dict_to_compare_test.values(),'b',label = 'rmse test')\n",
    "plt.plot(dict_to_compare_train.keys(),dict_to_compare_train.values(),'y',label='rmse train')\n",
    "plt.title('rmse for diferent models')\n",
    "plt.xticks(rotation=45)\n",
    "\n",
    "plt.legend()"
   ]
  },
  {
   "cell_type": "raw",
   "metadata": {},
   "source": [
    "Gradient boost is the best algorithm for the regression problem"
   ]
  },
  {
   "cell_type": "markdown",
   "metadata": {},
   "source": [
    "# Classification problem"
   ]
  },
  {
   "cell_type": "code",
   "execution_count": 46,
   "metadata": {},
   "outputs": [],
   "source": [
    "y_categorical = pd.get_dummies(data.category).to_numpy()\n",
    "X_train, X_test, y_train_c, y_test_c = train_test_split(X_pls.T,y_categorical,test_size=0.2,random_state = 3)\n",
    "dict_to_compare_test_c = {}\n",
    "dict_to_compare_train_c = {}"
   ]
  },
  {
   "cell_type": "markdown",
   "metadata": {},
   "source": [
    "## KNN"
   ]
  },
  {
   "cell_type": "code",
   "execution_count": 47,
   "metadata": {},
   "outputs": [
    {
     "name": "stdout",
     "output_type": "stream",
     "text": [
      "Fitting 4 folds for each of 4 candidates, totalling 16 fits\n"
     ]
    },
    {
     "name": "stderr",
     "output_type": "stream",
     "text": [
      "[Parallel(n_jobs=-1)]: Using backend LokyBackend with 4 concurrent workers.\n",
      "[Parallel(n_jobs=-1)]: Done  16 out of  16 | elapsed: 29.9min finished\n"
     ]
    },
    {
     "name": "stdout",
     "output_type": "stream",
     "text": [
      "{'n_neighbors': 1, 'weights': 'distance'}\n",
      "--- 1801.6215252876282 seconds ---\n"
     ]
    }
   ],
   "source": [
    "# start_time = time.time()\n",
    "# from sklearn.neighbors import KNeighborsClassifier\n",
    "\n",
    "# knn= KNeighborsClassifier()\n",
    "# params_knn = {'n_neighbors':[1,2],'weights':['distance','uniform']}\n",
    "# grid_knn = GridSearchCV(estimator=knn,param_grid=params_knn,cv=4,n_jobs=-1,verbose=3,scoring='f1_macro')\n",
    "# grid_knn.fit(X_train,y_train_c)\n",
    "# best_model = grid_knn.best_estimator_\n",
    "# pickle.dump(best_model,open('knn_model','wb'))\n",
    "# print(grid_knn.best_params_ )\n",
    "# print(\"--- %s seconds ---\" % (time.time() - start_time))"
   ]
  },
  {
   "cell_type": "raw",
   "metadata": {},
   "source": [
    "params_knn = {'n_neighbors':[1,3,5,7,9,11],'weights':['distance','uniform']}\n",
    "{'n_neighbors': 1, 'weights': 'distance'}\n",
    "100 min\n",
    "---------------------------------------------------------------------\n",
    "params_knn = {'n_neighbors':[1,2],'weights':['distance','uniform']}"
   ]
  },
  {
   "cell_type": "code",
   "execution_count": 48,
   "metadata": {},
   "outputs": [
    {
     "name": "stdout",
     "output_type": "stream",
     "text": [
      "train f1 macro: 1.0 \n",
      "test f1 macro: 0.4355814064282347\n"
     ]
    },
    {
     "data": {
      "text/plain": [
       "<matplotlib.axes._subplots.AxesSubplot at 0x7fb563e4feb8>"
      ]
     },
     "execution_count": 48,
     "metadata": {},
     "output_type": "execute_result"
    },
    {
     "data": {
      "image/png": "[encoded data removed]",
      "text/plain": [
       "<Figure size 432x288 with 2 Axes>"
      ]
     },
     "metadata": {
      "needs_background": "light"
     },
     "output_type": "display_data"
    }
   ],
   "source": [
    "best_model = pickle.load(open('knn_model','rb'))\n",
    "y_pred = best_model.predict(X_train)\n",
    "dict_to_compare_train_c['KNN'] = sklearn.metrics.f1_score(y_train_c, y_pred,average='macro')\n",
    "y_pred = best_model.predict(X_test)\n",
    "dict_to_compare_test_c['KNN'] = sklearn.metrics.f1_score(y_test_c, y_pred,average='macro')\n",
    "print('train f1 macro:',dict_to_compare_train_c['KNN'],'\\ntest f1 macro:',dict_to_compare_test_c['KNN'])\n",
    "\n",
    "from sklearn.metrics import confusion_matrix\n",
    "cf_matrix = confusion_matrix(y_test_c.argmax(axis=1), y_pred.argmax(axis=1))\n",
    "cf_matrix_pc = (cf_matrix/cf_matrix.sum(axis=0))*100\n",
    "import seaborn as sns\n",
    "sns.heatmap(cf_matrix_pc, annot=True,cmap='Blues')"
   ]
  },
  {
   "cell_type": "markdown",
   "metadata": {},
   "source": [
    "# Decision tree classifier"
   ]
  },
  {
   "cell_type": "code",
   "execution_count": 49,
   "metadata": {},
   "outputs": [],
   "source": [
    "# start_time = time.time()\n",
    "# from sklearn.tree import DecisionTreeClassifier\n",
    "\n",
    "# dt_c= DecisionTreeClassifier()\n",
    "# params_dt_c = {'max_depth':[10,11,12,13,14,15],\n",
    "#                   'min_samples_leaf':[0.0005,0.001,0.005],\n",
    "#                  'min_samples_split':[0.0005,0.001,0.005]}\n",
    "# grid_dt_c = GridSearchCV(estimator=dt_c,param_grid=params_dt_c,cv=4,n_jobs=-1,verbose=3,scoring='f1_macro')\n",
    "# grid_dt_c.fit(X_train,y_train_c)\n",
    "# best_model = grid_dt_c.best_estimator_\n",
    "# pickle.dump(best_model,open('dt_c','wb'))\n",
    "# print(grid_dt_c.best_params_ )\n",
    "# print(\"--- %s seconds ---\" % (time.time() - start_time))"
   ]
  },
  {
   "cell_type": "raw",
   "metadata": {},
   "source": [
    "params_dt_c = {'max_depth':[10,11,12,13,14,15],\n",
    "                  'min_samples_leaf':[0.0005,0.001,0.005],\n",
    "                 'min_samples_split':[0.0005,0.001,0.005]}\n",
    "{'max_depth': 10, 'min_samples_leaf': 0.0005, 'min_samples_split': 0.0005}"
   ]
  },
  {
   "cell_type": "code",
   "execution_count": 50,
   "metadata": {},
   "outputs": [
    {
     "name": "stdout",
     "output_type": "stream",
     "text": [
      "train f1 macro: 0.5079135635500958 \n",
      "test f1 macro: 0.48415726609157267\n"
     ]
    },
    {
     "data": {
      "text/plain": [
       "<matplotlib.axes._subplots.AxesSubplot at 0x7fb55f730240>"
      ]
     },
     "execution_count": 50,
     "metadata": {},
     "output_type": "execute_result"
    },
    {
     "data": {
      "image/png": "[encoded data removed]",
      "text/plain": [
       "<Figure size 432x288 with 2 Axes>"
      ]
     },
     "metadata": {
      "needs_background": "light"
     },
     "output_type": "display_data"
    }
   ],
   "source": [
    "best_model = pickle.load(open('dt_c','rb'))\n",
    "y_pred = best_model.predict(X_train)\n",
    "dict_to_compare_train_c['Decision tree'] = sklearn.metrics.f1_score(y_train_c, y_pred,average='macro')\n",
    "y_pred = best_model.predict(X_test)\n",
    "dict_to_compare_test_c['Decision tree'] = sklearn.metrics.f1_score(y_test_c, y_pred,average='macro')\n",
    "print('train f1 macro:',dict_to_compare_train_c['Decision tree'],'\\ntest f1 macro:',dict_to_compare_test_c['Decision tree'])\n",
    "\n",
    "from sklearn.metrics import confusion_matrix\n",
    "cf_matrix = confusion_matrix(y_test_c.argmax(axis=1), y_pred.argmax(axis=1))\n",
    "cf_matrix_pc = (cf_matrix/cf_matrix.sum(axis=0))*100\n",
    "import seaborn as sns\n",
    "sns.heatmap(cf_matrix_pc, annot=True,cmap='Blues')"
   ]
  },
  {
   "cell_type": "markdown",
   "metadata": {},
   "source": [
    "## LogisticRegression"
   ]
  },
  {
   "cell_type": "code",
   "execution_count": 51,
   "metadata": {},
   "outputs": [
    {
     "name": "stderr",
     "output_type": "stream",
     "text": [
      "/home/anna/anaconda3/lib/python3.7/site-packages/sklearn/linear_model/logistic.py:433: FutureWarning: Default solver will be changed to 'lbfgs' in 0.22. Specify a solver to silence this warning.\n",
      "  FutureWarning)\n"
     ]
    },
    {
     "name": "stdout",
     "output_type": "stream",
     "text": [
      "--- 13.162949800491333 seconds ---\n"
     ]
    }
   ],
   "source": [
    "X_train, X_test, y_train_c, y_test_c = train_test_split(X_pls.T,data.category,test_size=0.2,random_state = 3)\n",
    "\n",
    "from sklearn.linear_model import LogisticRegression\n",
    "start_time = time.time()\n",
    "log_reg = LogisticRegression(multi_class='ovr')\n",
    "log_reg.fit(X_train,y_train_c)\n",
    "print(\"--- %s seconds ---\" % (time.time() - start_time))"
   ]
  },
  {
   "cell_type": "code",
   "execution_count": 52,
   "metadata": {},
   "outputs": [
    {
     "name": "stdout",
     "output_type": "stream",
     "text": [
      "train f1 macro: 0.4082517524994821 \n",
      "test f1 macro: 0.40436232995306365\n"
     ]
    },
    {
     "data": {
      "text/plain": [
       "<matplotlib.axes._subplots.AxesSubplot at 0x7fb55f65c9e8>"
      ]
     },
     "execution_count": 52,
     "metadata": {},
     "output_type": "execute_result"
    },
    {
     "data": {
      "image/png": "[encoded data removed]",
      "text/plain": [
       "<Figure size 432x288 with 2 Axes>"
      ]
     },
     "metadata": {
      "needs_background": "light"
     },
     "output_type": "display_data"
    }
   ],
   "source": [
    "y_pred = log_reg.predict(X_train)\n",
    "dict_to_compare_train_c['Logistic regression_ovr'] = sklearn.metrics.f1_score(y_train_c, y_pred,average='macro')\n",
    "y_pred = log_reg.predict(X_test)\n",
    "dict_to_compare_test_c['Logistic regression_ovr'] = sklearn.metrics.f1_score(y_test_c, y_pred,average='macro')\n",
    "print('train f1 macro:',dict_to_compare_train_c['Logistic regression_ovr'],'\\ntest f1 macro:',dict_to_compare_test_c['Logistic regression_ovr'])\n",
    "\n",
    "from sklearn.metrics import confusion_matrix\n",
    "cf_matrix = confusion_matrix(y_test_c, y_pred)\n",
    "cf_matrix_pc = (cf_matrix/cf_matrix.sum(axis=0))*100\n",
    "import seaborn as sns\n",
    "sns.heatmap(cf_matrix_pc, annot=True,cmap='Blues')"
   ]
  },
  {
   "cell_type": "code",
   "execution_count": 53,
   "metadata": {},
   "outputs": [
    {
     "name": "stdout",
     "output_type": "stream",
     "text": [
      "--- 21.76792049407959 seconds ---\n"
     ]
    },
    {
     "name": "stderr",
     "output_type": "stream",
     "text": [
      "/home/anna/anaconda3/lib/python3.7/site-packages/sklearn/linear_model/sag.py:334: ConvergenceWarning: The max_iter was reached which means the coef_ did not converge\n",
      "  \"the coef_ did not converge\", ConvergenceWarning)\n"
     ]
    }
   ],
   "source": [
    "from sklearn.linear_model import LogisticRegression\n",
    "start_time = time.time()\n",
    "log_reg = LogisticRegression(multi_class='multinomial',solver='saga')\n",
    "log_reg.fit(X_train,y_train_c)\n",
    "print(\"--- %s seconds ---\" % (time.time() - start_time))"
   ]
  },
  {
   "cell_type": "code",
   "execution_count": 54,
   "metadata": {},
   "outputs": [
    {
     "name": "stdout",
     "output_type": "stream",
     "text": [
      "train f1 macro: 0.4511642532099926 \n",
      "test f1 macro: 0.43527519960934524\n"
     ]
    },
    {
     "data": {
      "text/plain": [
       "<matplotlib.axes._subplots.AxesSubplot at 0x7fb55f589160>"
      ]
     },
     "execution_count": 54,
     "metadata": {},
     "output_type": "execute_result"
    },
    {
     "data": {
      "image/png": "[encoded data removed]",
      "text/plain": [
       "<Figure size 432x288 with 2 Axes>"
      ]
     },
     "metadata": {
      "needs_background": "light"
     },
     "output_type": "display_data"
    }
   ],
   "source": [
    "y_pred = log_reg.predict(X_train)\n",
    "dict_to_compare_train_c['Logistic regression_multinomial'] = sklearn.metrics.f1_score(y_train_c, y_pred,average='macro')\n",
    "y_pred = log_reg.predict(X_test)\n",
    "dict_to_compare_test_c['Logistic regression_multinomial'] = sklearn.metrics.f1_score(y_test_c, y_pred,average='macro')\n",
    "print('train f1 macro:',dict_to_compare_train_c['Logistic regression_multinomial'],'\\ntest f1 macro:',dict_to_compare_test_c['Logistic regression_multinomial'])\n",
    "\n",
    "from sklearn.metrics import confusion_matrix\n",
    "cf_matrix = confusion_matrix(y_test_c, y_pred)\n",
    "cf_matrix_pc = (cf_matrix/cf_matrix.sum(axis=0))*100\n",
    "import seaborn as sns\n",
    "sns.heatmap(cf_matrix_pc, annot=True,cmap='Blues')"
   ]
  },
  {
   "cell_type": "markdown",
   "metadata": {},
   "source": [
    "## Summary of classification problem"
   ]
  },
  {
   "cell_type": "code",
   "execution_count": 55,
   "metadata": {},
   "outputs": [
    {
     "data": {
      "text/plain": [
       "<matplotlib.legend.Legend at 0x7fb558b80240>"
      ]
     },
     "execution_count": 55,
     "metadata": {},
     "output_type": "execute_result"
    },
    {
     "data": {
      "image/png": "[encoded data removed]",
      "text/plain": [
       "<Figure size 432x288 with 1 Axes>"
      ]
     },
     "metadata": {
      "needs_background": "light"
     },
     "output_type": "display_data"
    }
   ],
   "source": [
    "plt.plot(dict_to_compare_test_c.keys(),dict_to_compare_test_c.values(),'b',label = 'f1 macro score test')\n",
    "plt.plot(dict_to_compare_train_c.keys(),dict_to_compare_train_c.values(),'y',label='f1 macro score train')\n",
    "plt.title('f1 macro score for diferent models')\n",
    "plt.xticks(rotation=45)\n",
    "\n",
    "plt.legend()"
   ]
  },
  {
   "cell_type": "raw",
   "metadata": {},
   "source": [
    "the best model for this problem is Decision tree classifier"
   ]
  }
 ],
 "metadata": {
  "kernelspec": {
   "display_name": "Python 3",
   "language": "python",
   "name": "python3"
  },
  "language_info": {
   "codemirror_mode": {
    "name": "ipython",
    "version": 3
   },
   "file_extension": ".py",
   "mimetype": "text/x-python",
   "name": "python",
   "nbconvert_exporter": "python",
   "pygments_lexer": "ipython3",
   "version": "3.7.3"
  }
 },
 "nbformat": 4,
 "nbformat_minor": 2
}
