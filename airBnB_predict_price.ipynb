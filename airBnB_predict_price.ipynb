{
 "cells": [
  {
   "cell_type": "markdown",
   "metadata": {},
   "source": [
    "# Predicting price"
   ]
  },
  {
   "cell_type": "code",
   "execution_count": 1,
   "metadata": {},
   "outputs": [],
   "source": [
    "#as some executions are too long, code will be writen as comenst, obtained results are stored in pickle\n",
    "import pickle"
   ]
  },
  {
   "cell_type": "code",
   "execution_count": 2,
   "metadata": {},
   "outputs": [],
   "source": [
    "import pandas as pd\n",
    "import numpy as np\n",
    "import sklearn\n",
    "import matplotlib.pyplot as plt\n",
    "from scipy.sparse import csr_matrix\n",
    "import re\n",
    "from matplotlib import style\n",
    "style.use('fivethirtyeight')\n",
    "import time\n",
    "import datetime\n",
    "from pandas import HDFStore, DataFrame, read_csv, concat, options\n",
    "options.mode.chained_assignment = None"
   ]
  },
  {
   "cell_type": "code",
   "execution_count": 3,
   "metadata": {
    "scrolled": true
   },
   "outputs": [
    {
     "name": "stdout",
     "output_type": "stream",
     "text": [
      "(46241, 11)\n",
      "Index(['price', 'name', 'neighbourhood_group', 'room_type', 'minimum_nights',\n",
      "       'last_review', 'number_of_reviews', 'reviews_per_month',\n",
      "       'calculated_host_listings_count', 'availability_365', 'host_id'],\n",
      "      dtype='object')\n"
     ]
    }
   ],
   "source": [
    "data = pickle.load(open('filtered_df','rb'))\n",
    "print(data.shape)\n",
    "data.head()\n",
    "print(data.columns)\n",
    "\n",
    "y=data['price']"
   ]
  },
  {
   "cell_type": "markdown",
   "metadata": {},
   "source": [
    "# Data Exploration and Pre-processing"
   ]
  },
  {
   "cell_type": "raw",
   "metadata": {},
   "source": [
    "This step was done at the separate notebook. I have loaded the relevant data."
   ]
  },
  {
   "cell_type": "code",
   "execution_count": 4,
   "metadata": {},
   "outputs": [],
   "source": [
    "from sklearn.model_selection import train_test_split\n",
    "data_train, data_test, y_train, y_test = train_test_split(data,y,test_size=0.2,random_state = 3)"
   ]
  },
  {
   "cell_type": "code",
   "execution_count": 5,
   "metadata": {},
   "outputs": [],
   "source": [
    "def data_transformer(df = data_train,train_df = data_train):\n",
    "    X_df = df\n",
    "    for categorical_variable in ['room_type','neighbourhood_group']:\n",
    "        X_df = pd.concat([X_df,pd.get_dummies(df[categorical_variable])],axis=1)\n",
    "        X_df.drop(columns=[categorical_variable],inplace=True)\n",
    "    to_fill = df['last_review'].max()+datetime.timedelta(days=10)\n",
    "    df['last_review'].fillna(to_fill,inplace=True)\n",
    "    X_df['last_review_scale'] = (df['last_review'].max()-df['last_review']).dt.days\n",
    "    X_df.drop(columns=['last_review'],inplace=True)\n",
    "    \n",
    "    X_df['reviews_per_month'].apply(lambda i: i if i<20 else 20)\n",
    "    \n",
    "    X_df['month']=df['number_of_reviews']/df['reviews_per_month']\n",
    "    X_df['month'].fillna(0,inplace=True)\n",
    "    \n",
    "    X_df['minimum_nights'].apply(lambda i: i if i<500 else 500)\n",
    "    \n",
    "    X_df['data_mean_owner'] = pd.Series(index=X_df.index)\n",
    "    host_id = list(X_df[X_df['calculated_host_listings_count']>1]['host_id'])\n",
    "    for i in host_id:\n",
    "        mean_ = train_df[train_df['host_id']==i]['price'].mean()\n",
    "        I = X_df[X_df['host_id']==i].index\n",
    "        X_df.loc[I,'data_mean_owner'] = mean_\n",
    "    X_df['data_mean_owner'].fillna(0,inplace=True)\n",
    "    X_df.drop(columns=['host_id'])\n",
    "    return X_df"
   ]
  },
  {
   "cell_type": "code",
   "execution_count": 6,
   "metadata": {},
   "outputs": [
    {
     "data": {
      "text/html": [
       "<div>\n",
       "<style scoped>\n",
       "    .dataframe tbody tr th:only-of-type {\n",
       "        vertical-align: middle;\n",
       "    }\n",
       "\n",
       "    .dataframe tbody tr th {\n",
       "        vertical-align: top;\n",
       "    }\n",
       "\n",
       "    .dataframe thead th {\n",
       "        text-align: right;\n",
       "    }\n",
       "</style>\n",
       "<table border=\"1\" class=\"dataframe\">\n",
       "  <thead>\n",
       "    <tr style=\"text-align: right;\">\n",
       "      <th></th>\n",
       "      <th>name</th>\n",
       "      <th>minimum_nights</th>\n",
       "      <th>number_of_reviews</th>\n",
       "      <th>reviews_per_month</th>\n",
       "      <th>calculated_host_listings_count</th>\n",
       "      <th>availability_365</th>\n",
       "      <th>host_id</th>\n",
       "      <th>Entire home/apt</th>\n",
       "      <th>Private room</th>\n",
       "      <th>Shared room</th>\n",
       "      <th>Bronx</th>\n",
       "      <th>Brooklyn</th>\n",
       "      <th>Manhattan</th>\n",
       "      <th>Queens</th>\n",
       "      <th>Staten Island</th>\n",
       "      <th>last_review_scale</th>\n",
       "      <th>month</th>\n",
       "      <th>data_mean_owner</th>\n",
       "    </tr>\n",
       "  </thead>\n",
       "  <tbody>\n",
       "    <tr>\n",
       "      <th>36791</th>\n",
       "      <td>sun new york home east villag</td>\n",
       "      <td>3</td>\n",
       "      <td>7</td>\n",
       "      <td>0.91</td>\n",
       "      <td>1</td>\n",
       "      <td>4</td>\n",
       "      <td>24074596</td>\n",
       "      <td>1</td>\n",
       "      <td>0</td>\n",
       "      <td>0</td>\n",
       "      <td>0</td>\n",
       "      <td>0</td>\n",
       "      <td>1</td>\n",
       "      <td>0</td>\n",
       "      <td>0</td>\n",
       "      <td>39</td>\n",
       "      <td>7.692308</td>\n",
       "      <td>0.0</td>\n",
       "    </tr>\n",
       "    <tr>\n",
       "      <th>14624</th>\n",
       "      <td>spaciou rm w privat beaut</td>\n",
       "      <td>14</td>\n",
       "      <td>2</td>\n",
       "      <td>0.06</td>\n",
       "      <td>1</td>\n",
       "      <td>0</td>\n",
       "      <td>27751504</td>\n",
       "      <td>0</td>\n",
       "      <td>1</td>\n",
       "      <td>0</td>\n",
       "      <td>0</td>\n",
       "      <td>1</td>\n",
       "      <td>0</td>\n",
       "      <td>0</td>\n",
       "      <td>0</td>\n",
       "      <td>444</td>\n",
       "      <td>33.333333</td>\n",
       "      <td>0.0</td>\n",
       "    </tr>\n",
       "    <tr>\n",
       "      <th>17543</th>\n",
       "      <td>privat bd weekend</td>\n",
       "      <td>1</td>\n",
       "      <td>1</td>\n",
       "      <td>0.03</td>\n",
       "      <td>1</td>\n",
       "      <td>0</td>\n",
       "      <td>17153180</td>\n",
       "      <td>0</td>\n",
       "      <td>1</td>\n",
       "      <td>0</td>\n",
       "      <td>0</td>\n",
       "      <td>1</td>\n",
       "      <td>0</td>\n",
       "      <td>0</td>\n",
       "      <td>0</td>\n",
       "      <td>1107</td>\n",
       "      <td>33.333333</td>\n",
       "      <td>0.0</td>\n",
       "    </tr>\n",
       "    <tr>\n",
       "      <th>27313</th>\n",
       "      <td>larg bright fulli furnish rm 3bd bd apt</td>\n",
       "      <td>4</td>\n",
       "      <td>0</td>\n",
       "      <td>0.00</td>\n",
       "      <td>1</td>\n",
       "      <td>0</td>\n",
       "      <td>3053519</td>\n",
       "      <td>0</td>\n",
       "      <td>1</td>\n",
       "      <td>0</td>\n",
       "      <td>0</td>\n",
       "      <td>0</td>\n",
       "      <td>1</td>\n",
       "      <td>0</td>\n",
       "      <td>0</td>\n",
       "      <td>0</td>\n",
       "      <td>0.000000</td>\n",
       "      <td>0.0</td>\n",
       "    </tr>\n",
       "    <tr>\n",
       "      <th>48502</th>\n",
       "      <td>bd privat beaut 20min min manhattan</td>\n",
       "      <td>1</td>\n",
       "      <td>0</td>\n",
       "      <td>0.00</td>\n",
       "      <td>1</td>\n",
       "      <td>177</td>\n",
       "      <td>45919617</td>\n",
       "      <td>0</td>\n",
       "      <td>1</td>\n",
       "      <td>0</td>\n",
       "      <td>0</td>\n",
       "      <td>0</td>\n",
       "      <td>0</td>\n",
       "      <td>1</td>\n",
       "      <td>0</td>\n",
       "      <td>0</td>\n",
       "      <td>0.000000</td>\n",
       "      <td>0.0</td>\n",
       "    </tr>\n",
       "  </tbody>\n",
       "</table>\n",
       "</div>"
      ],
      "text/plain": [
       "                                          name  minimum_nights  \\\n",
       "36791            sun new york home east villag               3   \n",
       "14624                spaciou rm w privat beaut              14   \n",
       "17543                        privat bd weekend               1   \n",
       "27313  larg bright fulli furnish rm 3bd bd apt               4   \n",
       "48502      bd privat beaut 20min min manhattan               1   \n",
       "\n",
       "       number_of_reviews  reviews_per_month  calculated_host_listings_count  \\\n",
       "36791                  7               0.91                               1   \n",
       "14624                  2               0.06                               1   \n",
       "17543                  1               0.03                               1   \n",
       "27313                  0               0.00                               1   \n",
       "48502                  0               0.00                               1   \n",
       "\n",
       "       availability_365   host_id  Entire home/apt  Private room  Shared room  \\\n",
       "36791                 4  24074596                1             0            0   \n",
       "14624                 0  27751504                0             1            0   \n",
       "17543                 0  17153180                0             1            0   \n",
       "27313                 0   3053519                0             1            0   \n",
       "48502               177  45919617                0             1            0   \n",
       "\n",
       "       Bronx  Brooklyn  Manhattan  Queens  Staten Island  last_review_scale  \\\n",
       "36791      0         0          1       0              0                 39   \n",
       "14624      0         1          0       0              0                444   \n",
       "17543      0         1          0       0              0               1107   \n",
       "27313      0         0          1       0              0                  0   \n",
       "48502      0         0          0       1              0                  0   \n",
       "\n",
       "           month  data_mean_owner  \n",
       "36791   7.692308              0.0  \n",
       "14624  33.333333              0.0  \n",
       "17543  33.333333              0.0  \n",
       "27313   0.000000              0.0  \n",
       "48502   0.000000              0.0  "
      ]
     },
     "execution_count": 6,
     "metadata": {},
     "output_type": "execute_result"
    }
   ],
   "source": [
    "X_df_train = data_transformer(df = data_train,train_df = data_train)\n",
    "X_df_train.drop(columns=['price'],inplace=True)\n",
    "X_df_train.head()"
   ]
  },
  {
   "cell_type": "code",
   "execution_count": 7,
   "metadata": {},
   "outputs": [
    {
     "data": {
      "text/html": [
       "<div>\n",
       "<style scoped>\n",
       "    .dataframe tbody tr th:only-of-type {\n",
       "        vertical-align: middle;\n",
       "    }\n",
       "\n",
       "    .dataframe tbody tr th {\n",
       "        vertical-align: top;\n",
       "    }\n",
       "\n",
       "    .dataframe thead th {\n",
       "        text-align: right;\n",
       "    }\n",
       "</style>\n",
       "<table border=\"1\" class=\"dataframe\">\n",
       "  <thead>\n",
       "    <tr style=\"text-align: right;\">\n",
       "      <th></th>\n",
       "      <th>name</th>\n",
       "      <th>minimum_nights</th>\n",
       "      <th>number_of_reviews</th>\n",
       "      <th>reviews_per_month</th>\n",
       "      <th>calculated_host_listings_count</th>\n",
       "      <th>availability_365</th>\n",
       "      <th>host_id</th>\n",
       "      <th>Entire home/apt</th>\n",
       "      <th>Private room</th>\n",
       "      <th>Shared room</th>\n",
       "      <th>Bronx</th>\n",
       "      <th>Brooklyn</th>\n",
       "      <th>Manhattan</th>\n",
       "      <th>Queens</th>\n",
       "      <th>Staten Island</th>\n",
       "      <th>last_review_scale</th>\n",
       "      <th>month</th>\n",
       "      <th>data_mean_owner</th>\n",
       "    </tr>\n",
       "  </thead>\n",
       "  <tbody>\n",
       "    <tr>\n",
       "      <th>33332</th>\n",
       "      <td>park slope secret garden</td>\n",
       "      <td>4</td>\n",
       "      <td>5</td>\n",
       "      <td>0.46</td>\n",
       "      <td>1</td>\n",
       "      <td>12</td>\n",
       "      <td>65884218</td>\n",
       "      <td>1</td>\n",
       "      <td>0</td>\n",
       "      <td>0</td>\n",
       "      <td>0</td>\n",
       "      <td>1</td>\n",
       "      <td>0</td>\n",
       "      <td>0</td>\n",
       "      <td>0</td>\n",
       "      <td>198</td>\n",
       "      <td>10.869565</td>\n",
       "      <td>0.0</td>\n",
       "    </tr>\n",
       "    <tr>\n",
       "      <th>33899</th>\n",
       "      <td>bear b</td>\n",
       "      <td>1</td>\n",
       "      <td>43</td>\n",
       "      <td>3.58</td>\n",
       "      <td>4</td>\n",
       "      <td>81</td>\n",
       "      <td>191571338</td>\n",
       "      <td>0</td>\n",
       "      <td>1</td>\n",
       "      <td>0</td>\n",
       "      <td>0</td>\n",
       "      <td>0</td>\n",
       "      <td>0</td>\n",
       "      <td>1</td>\n",
       "      <td>0</td>\n",
       "      <td>13</td>\n",
       "      <td>12.011173</td>\n",
       "      <td>59.0</td>\n",
       "    </tr>\n",
       "    <tr>\n",
       "      <th>26454</th>\n",
       "      <td>20min min sub ride time sq</td>\n",
       "      <td>2</td>\n",
       "      <td>1</td>\n",
       "      <td>0.05</td>\n",
       "      <td>1</td>\n",
       "      <td>0</td>\n",
       "      <td>151683441</td>\n",
       "      <td>0</td>\n",
       "      <td>1</td>\n",
       "      <td>0</td>\n",
       "      <td>0</td>\n",
       "      <td>0</td>\n",
       "      <td>0</td>\n",
       "      <td>1</td>\n",
       "      <td>0</td>\n",
       "      <td>575</td>\n",
       "      <td>20.000000</td>\n",
       "      <td>0.0</td>\n",
       "    </tr>\n",
       "    <tr>\n",
       "      <th>24222</th>\n",
       "      <td>one bd apt prospect park</td>\n",
       "      <td>2</td>\n",
       "      <td>5</td>\n",
       "      <td>0.22</td>\n",
       "      <td>1</td>\n",
       "      <td>0</td>\n",
       "      <td>18327839</td>\n",
       "      <td>1</td>\n",
       "      <td>0</td>\n",
       "      <td>0</td>\n",
       "      <td>0</td>\n",
       "      <td>1</td>\n",
       "      <td>0</td>\n",
       "      <td>0</td>\n",
       "      <td>0</td>\n",
       "      <td>662</td>\n",
       "      <td>22.727273</td>\n",
       "      <td>0.0</td>\n",
       "    </tr>\n",
       "    <tr>\n",
       "      <th>42321</th>\n",
       "      <td>cozi modern 1bed bed apt hell kitchen</td>\n",
       "      <td>3</td>\n",
       "      <td>0</td>\n",
       "      <td>0.00</td>\n",
       "      <td>1</td>\n",
       "      <td>0</td>\n",
       "      <td>4087531</td>\n",
       "      <td>1</td>\n",
       "      <td>0</td>\n",
       "      <td>0</td>\n",
       "      <td>0</td>\n",
       "      <td>0</td>\n",
       "      <td>1</td>\n",
       "      <td>0</td>\n",
       "      <td>0</td>\n",
       "      <td>0</td>\n",
       "      <td>0.000000</td>\n",
       "      <td>0.0</td>\n",
       "    </tr>\n",
       "  </tbody>\n",
       "</table>\n",
       "</div>"
      ],
      "text/plain": [
       "                                        name  minimum_nights  \\\n",
       "33332               park slope secret garden               4   \n",
       "33899                                 bear b               1   \n",
       "26454             20min min sub ride time sq               2   \n",
       "24222               one bd apt prospect park               2   \n",
       "42321  cozi modern 1bed bed apt hell kitchen               3   \n",
       "\n",
       "       number_of_reviews  reviews_per_month  calculated_host_listings_count  \\\n",
       "33332                  5               0.46                               1   \n",
       "33899                 43               3.58                               4   \n",
       "26454                  1               0.05                               1   \n",
       "24222                  5               0.22                               1   \n",
       "42321                  0               0.00                               1   \n",
       "\n",
       "       availability_365    host_id  Entire home/apt  Private room  \\\n",
       "33332                12   65884218                1             0   \n",
       "33899                81  191571338                0             1   \n",
       "26454                 0  151683441                0             1   \n",
       "24222                 0   18327839                1             0   \n",
       "42321                 0    4087531                1             0   \n",
       "\n",
       "       Shared room  Bronx  Brooklyn  Manhattan  Queens  Staten Island  \\\n",
       "33332            0      0         1          0       0              0   \n",
       "33899            0      0         0          0       1              0   \n",
       "26454            0      0         0          0       1              0   \n",
       "24222            0      0         1          0       0              0   \n",
       "42321            0      0         0          1       0              0   \n",
       "\n",
       "       last_review_scale      month  data_mean_owner  \n",
       "33332                198  10.869565              0.0  \n",
       "33899                 13  12.011173             59.0  \n",
       "26454                575  20.000000              0.0  \n",
       "24222                662  22.727273              0.0  \n",
       "42321                  0   0.000000              0.0  "
      ]
     },
     "execution_count": 7,
     "metadata": {},
     "output_type": "execute_result"
    }
   ],
   "source": [
    "X_df_test = data_transformer(df = data_test,train_df = data_train)\n",
    "X_df_test.drop(columns=['price'],inplace=True)\n",
    "X_df_test.head()"
   ]
  },
  {
   "cell_type": "markdown",
   "metadata": {},
   "source": [
    "## Extracting words from the cleared text data"
   ]
  },
  {
   "cell_type": "markdown",
   "metadata": {},
   "source": [
    "we have to use train data set to prevent data leakage"
   ]
  },
  {
   "cell_type": "code",
   "execution_count": 8,
   "metadata": {},
   "outputs": [
    {
     "name": "stdout",
     "output_type": "stream",
     "text": [
      "2616\n",
      "<class 'scipy.sparse.csr.csr_matrix'>\n",
      "Index(['000sf', '000sq', '0min', '1000sq', '100night', '100privat', '105th',\n",
      "       '108th', '10day', '10foot'],\n",
      "      dtype='object') Index([], dtype='object') Index(['yorkvil', 'young', 'youth', 'yr', 'yurt', 'zen', 'zimmer', 'zona',\n",
      "       'zone', 'zoo'],\n",
      "      dtype='object')\n"
     ]
    }
   ],
   "source": [
    "from sklearn.feature_extraction.text import CountVectorizer\n",
    "count = CountVectorizer(max_df = 0.1,min_df=0.00003)\n",
    "features_name = count.fit_transform(X_df_train['name'])\n",
    "print(features_name.shape[1])\n",
    "print(type(features_name))\n",
    "\n",
    "words_df = pd.DataFrame(features_name.toarray(), columns=count.get_feature_names())\n",
    "X_all_words = words_df.to_numpy()\n",
    "print(words_df.columns[:10],words_df.columns[3000:3010],words_df.columns[-10:])\n",
    "\n",
    "\n",
    "features_name_test = count.transform(X_df_test['name'])\n",
    "words_df_test = pd.DataFrame(features_name_test.toarray(), columns=count.get_feature_names())\n",
    "X_test_words = words_df_test.to_numpy()"
   ]
  },
  {
   "cell_type": "raw",
   "metadata": {},
   "source": [
    "So we have 2616 words that might be useful for us, as big data sets are time and memory consuming, our task is to divide it on categories. First what I tried to do is to cluster words acording to how many times it appeared in specific price category. Then I lernt PLS algorithm, algorithm that transform data to much smaller data set, wich is linear combination of all 'words' that is highly correlated with the target data"
   ]
  },
  {
   "cell_type": "markdown",
   "metadata": {},
   "source": [
    "## PLS"
   ]
  },
  {
   "cell_type": "code",
   "execution_count": 9,
   "metadata": {},
   "outputs": [
    {
     "name": "stdout",
     "output_type": "stream",
     "text": [
      "iteration 1/15 is over\n",
      "iteration 2/15 is over\n",
      "iteration 3/15 is over\n",
      "iteration 4/15 is over\n",
      "iteration 5/15 is over\n",
      "iteration 6/15 is over\n",
      "iteration 7/15 is over\n",
      "iteration 8/15 is over\n",
      "iteration 9/15 is over\n",
      "iteration 10/15 is over\n",
      "iteration 11/15 is over\n",
      "iteration 12/15 is over\n",
      "iteration 13/15 is over\n",
      "iteration 14/15 is over\n",
      "iteration 15/15 is over\n",
      "--- 2.407628067334493 minuts ---\n"
     ]
    }
   ],
   "source": [
    "start_time = time.time()\n",
    "score_all_words = []\n",
    "from sklearn.cross_decomposition import PLSRegression\n",
    "for i in range(1,16):\n",
    "    pls = PLSRegression(n_components=i)\n",
    "    pls.fit(X_all_words,y_train)\n",
    "    score_all_words.append(pls.score(X_all_words,y_train))\n",
    "    print('iteration '+str(i)+'/15 is over')\n",
    "    pickle.dump(pls, open('pls_words_'+str(i), 'wb'))\n",
    "print(\"--- %s minuts ---\" % ((time.time() - start_time)/60))"
   ]
  },
  {
   "cell_type": "code",
   "execution_count": 10,
   "metadata": {},
   "outputs": [
    {
     "data": {
      "text/plain": [
       "<matplotlib.legend.Legend at 0x7f55c39b5590>"
      ]
     },
     "execution_count": 10,
     "metadata": {},
     "output_type": "execute_result"
    },
    {
     "data": {
      "image/png": "[encoded data removed]",
      "text/plain": [
       "<Figure size 432x288 with 1 Axes>"
      ]
     },
     "metadata": {
      "needs_background": "light"
     },
     "output_type": "display_data"
    }
   ],
   "source": [
    "plt.plot(range(1,16),score_all_words,'g',label = 'r square')\n",
    "plt.title('pls n_components')\n",
    "plt.legend()"
   ]
  },
  {
   "cell_type": "raw",
   "metadata": {},
   "source": [
    "after 6th iteration the graph is flat, it means that 8 components are suffisient to represent all the data['name']"
   ]
  },
  {
   "cell_type": "code",
   "execution_count": 11,
   "metadata": {},
   "outputs": [],
   "source": [
    "pls_words_6 = pickle.load(open('pls_words_6','rb'))\n",
    "X_words_train = pls_words_6.transform(X_all_words)\n",
    "X_words_test = pls_words_6.transform(X_test_words)"
   ]
  },
  {
   "cell_type": "code",
   "execution_count": 12,
   "metadata": {},
   "outputs": [
    {
     "name": "stdout",
     "output_type": "stream",
     "text": [
      "(36992, 23)\n"
     ]
    }
   ],
   "source": [
    "X_df_train.drop(columns=['name'],inplace=True)\n",
    "X_train = np.concatenate([X_words_train,X_df_train.to_numpy()],axis=1)\n",
    "print(X_train.shape)\n",
    "X_df_test.drop(columns=['name'],inplace=True)\n",
    "X_test = np.concatenate([X_words_test,X_df_test.to_numpy()],axis=1)"
   ]
  },
  {
   "cell_type": "raw",
   "metadata": {},
   "source": [
    "Finally i have train and test set"
   ]
  },
  {
   "cell_type": "markdown",
   "metadata": {},
   "source": [
    "# Regression task"
   ]
  },
  {
   "cell_type": "code",
   "execution_count": 13,
   "metadata": {},
   "outputs": [],
   "source": [
    "from sklearn.preprocessing import StandardScaler\n",
    "scaler = StandardScaler()\n",
    "from sklearn.metrics import mean_squared_error as MSE\n",
    "from sklearn.model_selection import GridSearchCV\n",
    "\n",
    "dict_to_compare_test = {}\n",
    "dict_to_compare_train = {}"
   ]
  },
  {
   "cell_type": "code",
   "execution_count": 15,
   "metadata": {},
   "outputs": [
    {
     "name": "stdout",
     "output_type": "stream",
     "text": [
      "49.75833445540639\n",
      "51.31559810039941\n",
      "lr.alpha =  0.005\n"
     ]
    }
   ],
   "source": [
    "from sklearn.linear_model import LassoCV\n",
    "lr = LassoCV(alphas=[0.0005,0.001,0.005,0.01],cv=4)\n",
    "lasso_fit = lr.fit(scaler.fit_transform(X_train),y_train)\n",
    "y_lr_train_pred = lr.predict(scaler.transform(X_train))\n",
    "y_lr_test_pred = lr.predict(scaler.transform(X_test))\n",
    "dict_to_compare_train['Linear regression'] = MSE(y_train,y_lr_train_pred)**0.5\n",
    "dict_to_compare_test['Linear regression'] = MSE(y_test,y_lr_test_pred)**0.5\n",
    "print(dict_to_compare_train['Linear regression'])\n",
    "print(dict_to_compare_test['Linear regression'])\n",
    "\n",
    "print('lr.alpha = ',lr.alpha_)"
   ]
  },
  {
   "cell_type": "markdown",
   "metadata": {},
   "source": [
    "### Decision tree regressor"
   ]
  },
  {
   "cell_type": "code",
   "execution_count": 16,
   "metadata": {},
   "outputs": [
    {
     "name": "stdout",
     "output_type": "stream",
     "text": [
      "iteration 1/20 is over\n",
      "iteration 2/20 is over\n",
      "iteration 3/20 is over\n",
      "iteration 4/20 is over\n",
      "iteration 5/20 is over\n",
      "iteration 6/20 is over\n",
      "iteration 7/20 is over\n",
      "iteration 8/20 is over\n",
      "iteration 9/20 is over\n",
      "iteration 10/20 is over\n",
      "--- 1.3126966953277588 seconds ---\n"
     ]
    }
   ],
   "source": [
    "from sklearn.tree import DecisionTreeRegressor\n",
    "start_time = time.time()\n",
    "\n",
    "train_line_loss_dt_reg= []\n",
    "test_line_loss_dt_reg = []\n",
    "\n",
    "for i in range(1,11):\n",
    "    dt_i = DecisionTreeRegressor(max_depth=i,random_state=21,min_samples_split=0.1,min_samples_leaf=0.1)\n",
    "    dt_i.fit(X_train,y_train)\n",
    "\n",
    "    y_dt_reg_train_pred = dt_i.predict(X_train)\n",
    "    y_dt_reg_test_pred = dt_i.predict(X_test)\n",
    "    \n",
    "    train_line_loss_dt_reg.append((MSE(y_train,y_dt_reg_train_pred))**0.5)\n",
    "    test_line_loss_dt_reg.append((MSE(y_test,y_dt_reg_test_pred))**0.5)\n",
    "    pickle.dump(dt_i, open('dt_reg_'+str(i), 'wb'))\n",
    "    print('iteration '+str(i)+'/20 is over')\n",
    "print(\"--- %s seconds ---\" % (time.time() - start_time))"
   ]
  },
  {
   "cell_type": "code",
   "execution_count": 17,
   "metadata": {},
   "outputs": [
    {
     "data": {
      "text/plain": [
       "<matplotlib.legend.Legend at 0x7f55c3ab9710>"
      ]
     },
     "execution_count": 17,
     "metadata": {},
     "output_type": "execute_result"
    },
    {
     "data": {
      "image/png": "[encoded data removed]",
      "text/plain": [
       "<Figure size 432x288 with 1 Axes>"
      ]
     },
     "metadata": {
      "needs_background": "light"
     },
     "output_type": "display_data"
    }
   ],
   "source": [
    "plt.plot(range(1,11),train_line_loss_dt_reg,'y',label = 'rmse train')\n",
    "plt.plot(range(1,11),test_line_loss_dt_reg,'b', label = 'rmse test')\n",
    "plt.title('dt_reg learning curve')\n",
    "plt.legend()"
   ]
  },
  {
   "cell_type": "raw",
   "metadata": {},
   "source": [
    "I am playing with hyperparameters using learnig curves to find hyperparameters to start with in grid search. We can see that after max_depth = 4, the model is overfitting. As 'min_samples_leaf' and 'min_samples_split' simplify a tree model, we will try biger ones"
   ]
  },
  {
   "cell_type": "code",
   "execution_count": 25,
   "metadata": {},
   "outputs": [
    {
     "name": "stdout",
     "output_type": "stream",
     "text": [
      "{'max_depth': 11, 'min_samples_leaf': 2, 'min_samples_split': 0.01}\n",
      "--- 0.21781484683354696 minuts ---\n",
      "rmse train =  45.777468675960385 \n",
      "rmse test =  50.65315178289495\n"
     ]
    }
   ],
   "source": [
    "start_time = time.time()\n",
    "dt_reg_ = DecisionTreeRegressor(random_state=1)\n",
    "params_dt_reg_ = {'max_depth':[7,9,11,13],\n",
    "                  'min_samples_leaf':[2,0.1,0.01],\n",
    "                 'min_samples_split':[2,0.1,0.01]}\n",
    "grid_dt = GridSearchCV(estimator=dt_reg_,param_grid=params_dt_reg_,cv=4,n_jobs=-1)\n",
    "grid_dt.fit(X_train,y_train)\n",
    "best_model = grid_dt.best_estimator_\n",
    "pickle.dump(best_model,open('best_model_dt','wb'))\n",
    "print(grid_dt.best_params_ )\n",
    "print(\"--- %s minuts ---\" % ((time.time() - start_time)/60))\n",
    "\n",
    "best_model_dt = pickle.load(open('best_model_dt','rb'))\n",
    "y_dt_gs_train_pred = best_model_dt.predict(X_train)\n",
    "y_dt_gs_test_pred = best_model_dt.predict(X_test)\n",
    "dict_to_compare_train['Decision tree'] = MSE(y_train,y_dt_gs_train_pred)**0.5\n",
    "dict_to_compare_test['Decision tree'] = MSE(y_test,y_dt_gs_test_pred)**0.5\n",
    "print('rmse train = ',dict_to_compare_train['Decision tree'],'\\nrmse test = ',dict_to_compare_test['Decision tree'])"
   ]
  },
  {
   "cell_type": "markdown",
   "metadata": {},
   "source": [
    "### Random forest"
   ]
  },
  {
   "cell_type": "code",
   "execution_count": 26,
   "metadata": {},
   "outputs": [
    {
     "name": "stdout",
     "output_type": "stream",
     "text": [
      "iteration 1/20 is over\n",
      "iteration 2/20 is over\n",
      "iteration 3/20 is over\n",
      "iteration 4/20 is over\n",
      "iteration 5/20 is over\n",
      "iteration 6/20 is over\n",
      "iteration 7/20 is over\n",
      "iteration 8/20 is over\n",
      "iteration 9/20 is over\n",
      "iteration 10/20 is over\n",
      "iteration 11/20 is over\n",
      "iteration 12/20 is over\n",
      "iteration 13/20 is over\n",
      "iteration 14/20 is over\n",
      "iteration 15/20 is over\n",
      "iteration 16/20 is over\n",
      "iteration 17/20 is over\n",
      "iteration 18/20 is over\n",
      "iteration 19/20 is over\n",
      "iteration 20/20 is over\n",
      "--- 2.156564235687256 seconds ---\n"
     ]
    }
   ],
   "source": [
    "from  sklearn.ensemble import RandomForestRegressor\n",
    "\n",
    "start_time = time.time()\n",
    "train_line_loss_rf = []\n",
    "test_line_loss_rf = []\n",
    "\n",
    "for i in range(1,21):\n",
    "    rf =  RandomForestRegressor(n_estimators=i,random_state=1,min_samples_leaf=0.01,min_samples_split=0.1,max_features=0.07)\n",
    "    rf.fit(X_train,y_train)\n",
    "    y_rf_train_pred = rf.predict(X_train)\n",
    "    y_rf_test_pred = rf.predict(X_test)\n",
    "    train_line_loss_rf.append((MSE(y_train,y_rf_train_pred))**0.5)\n",
    "    test_line_loss_rf.append((MSE(y_test,y_rf_test_pred))**0.5)\n",
    "    print('iteration '+str(i)+'/20 is over')\n",
    "print(\"--- %s seconds ---\" % (time.time() - start_time))"
   ]
  },
  {
   "cell_type": "code",
   "execution_count": 27,
   "metadata": {},
   "outputs": [
    {
     "data": {
      "text/plain": [
       "<matplotlib.legend.Legend at 0x7f55c0b93050>"
      ]
     },
     "execution_count": 27,
     "metadata": {},
     "output_type": "execute_result"
    },
    {
     "data": {
      "image/png": "[encoded data removed]",
      "text/plain": [
       "<Figure size 432x288 with 1 Axes>"
      ]
     },
     "metadata": {
      "needs_background": "light"
     },
     "output_type": "display_data"
    }
   ],
   "source": [
    "plt.plot(range(1,21),train_line_loss_rf,'y',label = 'rmse train')\n",
    "plt.plot(range(1,21),test_line_loss_rf,'b', label = 'rmse test')\n",
    "plt.title('Random forest learning curve')\n",
    "plt.legend()"
   ]
  },
  {
   "cell_type": "code",
   "execution_count": 28,
   "metadata": {},
   "outputs": [
    {
     "name": "stdout",
     "output_type": "stream",
     "text": [
      "Fitting 4 folds for each of 80 candidates, totalling 320 fits\n"
     ]
    },
    {
     "name": "stderr",
     "output_type": "stream",
     "text": [
      "[Parallel(n_jobs=-1)]: Using backend LokyBackend with 4 concurrent workers.\n",
      "[Parallel(n_jobs=-1)]: Done  42 tasks      | elapsed:   13.7s\n",
      "[Parallel(n_jobs=-1)]: Done 192 tasks      | elapsed:  1.0min\n",
      "[Parallel(n_jobs=-1)]: Done 320 out of 320 | elapsed:  2.2min finished\n"
     ]
    },
    {
     "name": "stdout",
     "output_type": "stream",
     "text": [
      "{'max_features': 0.5, 'min_samples_leaf': 0.01, 'min_samples_split': 0.01, 'n_estimators': 50}\n",
      "--- 2.29798082113266 minuts ---\n",
      "rmse train =  47.56997651220204 \n",
      "rmse test =  50.65315178289495\n"
     ]
    }
   ],
   "source": [
    "start_time = time.time()\n",
    "from  sklearn.ensemble import RandomForestRegressor\n",
    "rf_ = RandomForestRegressor(random_state=1)\n",
    "params_rf = {'n_estimators':[20,30,40,50],\n",
    "             'min_samples_leaf':[0.01,0.1],\n",
    "            'min_samples_split':[0.01,0.1],\n",
    "            'max_features':[0.2,0.25,0.3,0.4,0.5]}\n",
    "grid_rf = GridSearchCV(estimator=rf_,param_grid=params_rf,cv=4,n_jobs=-1,verbose=1)\n",
    "grid_rf.fit(X_train,y_train)\n",
    "best_model = grid_rf.best_estimator_\n",
    "pickle.dump(best_model,open('best_model_rf','wb'))\n",
    "print(grid_rf.best_params_)\n",
    "print(\"--- %s minuts ---\" % ((time.time() - start_time)/60))\n",
    "\n",
    "best_model_rf = pickle.load(open('best_model_rf','rb'))\n",
    "y_rf_gs_train_pred = best_model_rf.predict(X_train)\n",
    "y_rf_gs_test_pred = best_model_rf.predict(X_test)\n",
    "dict_to_compare_train['Random forest'] = MSE(y_train,y_rf_gs_train_pred)**0.5\n",
    "dict_to_compare_test['Random forest'] = MSE(y_test,y_dt_gs_test_pred)**0.5\n",
    "print('rmse train = ',dict_to_compare_train['Random forest'],'\\nrmse test = ',dict_to_compare_test['Random forest'])"
   ]
  },
  {
   "cell_type": "raw",
   "metadata": {},
   "source": [
    "{'max_features': 0.4, 'min_samples_leaf': 2, 'min_samples_split': 2, 'n_estimators': 60}\n",
    "--- 10.38215708732605 minuts ---\n",
    "rmse train =  21.630551219080726 \n",
    "rmse test =  51.05946255515458\n",
    "OVERFITTING"
   ]
  },
  {
   "cell_type": "markdown",
   "metadata": {},
   "source": [
    "### Adaboost"
   ]
  },
  {
   "cell_type": "code",
   "execution_count": 29,
   "metadata": {},
   "outputs": [
    {
     "name": "stdout",
     "output_type": "stream",
     "text": [
      "1/15\n",
      "2/15\n",
      "3/15\n",
      "4/15\n",
      "5/15\n",
      "6/15\n",
      "7/15\n",
      "8/15\n",
      "9/15\n",
      "10/15\n",
      "11/15\n",
      "12/15\n",
      "13/15\n",
      "14/15\n",
      "15/15\n"
     ]
    }
   ],
   "source": [
    "from sklearn.ensemble import AdaBoostRegressor\n",
    "\n",
    "train_line_loss_ada = []\n",
    "test_line_loss_ada = []\n",
    "\n",
    "for i in range(1,16):\n",
    "    regr = AdaBoostRegressor(base_estimator=DecisionTreeRegressor(max_depth=2,min_samples_leaf=0.01,min_samples_split=0.01),random_state=21, n_estimators=i)\n",
    "    regr.fit(X_train, y_train)\n",
    "    y_ada_train_pred = regr.predict(X_train)\n",
    "    y_ada_test_pred = regr.predict(X_test)\n",
    "    train_line_loss_ada.append((MSE(y_train,y_ada_train_pred))**0.5)\n",
    "    test_line_loss_ada.append((MSE(y_test,y_ada_test_pred))**0.5)\n",
    "    print(str(i)+'/15')\n",
    "pickle.dump(train_line_loss_ada,open('train_line_loss_ada','wb'))\n",
    "pickle.dump(test_line_loss_ada,open('test_line_loss_ada','wb'))"
   ]
  },
  {
   "cell_type": "code",
   "execution_count": 30,
   "metadata": {},
   "outputs": [
    {
     "data": {
      "text/plain": [
       "<matplotlib.legend.Legend at 0x7f55c094fb10>"
      ]
     },
     "execution_count": 30,
     "metadata": {},
     "output_type": "execute_result"
    },
    {
     "data": {
      "image/png": "[encoded data removed]",
      "text/plain": [
       "<Figure size 432x288 with 1 Axes>"
      ]
     },
     "metadata": {
      "needs_background": "light"
     },
     "output_type": "display_data"
    }
   ],
   "source": [
    "train_line_loss_ada = pickle.load(open('train_line_loss_ada','rb'))\n",
    "test_line_loss_ada = pickle.load(open('test_line_loss_ada','rb'))\n",
    "plt.plot(range(1,16),train_line_loss_ada,'y',label = 'rmse train')\n",
    "plt.plot(range(1,16),test_line_loss_ada,'b', label = 'rmse test')\n",
    "plt.title('ada learning curve')\n",
    "plt.legend()"
   ]
  },
  {
   "cell_type": "code",
   "execution_count": 31,
   "metadata": {},
   "outputs": [],
   "source": [
    "dict_to_compare_train['AdaBoost'] = train_line_loss_ada[3]\n",
    "dict_to_compare_test['AdaBoost'] = test_line_loss_ada[3]"
   ]
  },
  {
   "cell_type": "markdown",
   "metadata": {},
   "source": [
    "### Gradient boosting regressor"
   ]
  },
  {
   "cell_type": "code",
   "execution_count": 32,
   "metadata": {},
   "outputs": [
    {
     "name": "stdout",
     "output_type": "stream",
     "text": [
      "Fitting 4 folds for each of 9 candidates, totalling 36 fits\n"
     ]
    },
    {
     "name": "stderr",
     "output_type": "stream",
     "text": [
      "[Parallel(n_jobs=-1)]: Using backend LokyBackend with 4 concurrent workers.\n",
      "[Parallel(n_jobs=-1)]: Done  36 out of  36 | elapsed:  4.2min finished\n"
     ]
    },
    {
     "name": "stdout",
     "output_type": "stream",
     "text": [
      "{'max_depth': 5, 'n_estimators': 130}\n",
      "--- 4.454845062891642 minuts ---\n",
      "rmse train:  41.533727566554646\n",
      "rmse test:  47.85178271494951\n"
     ]
    }
   ],
   "source": [
    "from sklearn.ensemble import GradientBoostingRegressor\n",
    "\n",
    "start_time = time.time()\n",
    "\n",
    "regr = GradientBoostingRegressor(random_state=1)\n",
    "params_regr = {'max_depth':[3,4,5],\n",
    "                  'n_estimators':[110,130,150]}\n",
    "grid_regr = GridSearchCV(estimator=regr,param_grid=params_regr,cv=4,n_jobs=-1,verbose = 1)\n",
    "grid_regr.fit(X_train,y_train)\n",
    "best_model = grid_regr.best_estimator_\n",
    "pickle.dump(best_model,open('best_model_gb_gs','wb'))\n",
    "print(grid_regr.best_params_ )\n",
    "print(\"--- %s minuts ---\" % ((time.time() - start_time)/60))\n",
    "\n",
    "best_model = pickle.load(open('best_model_gb_gs','rb'))\n",
    "y_grboost_train_pred = best_model.predict(X_train)\n",
    "y_grboost_test_pred = best_model.predict(X_test)\n",
    "dict_to_compare_train['GradientBoost'] = MSE(y_train,y_grboost_train_pred)**0.5\n",
    "dict_to_compare_test['GradientBoost'] = MSE(y_test,y_grboost_test_pred)**0.5\n",
    "\n",
    "print('rmse train: ', dict_to_compare_train['GradientBoost'])\n",
    "print('rmse test: ', dict_to_compare_test['GradientBoost'])"
   ]
  },
  {
   "cell_type": "raw",
   "metadata": {},
   "source": [
    "params_regr = {'max_depth':[5,6,7],\n",
    "                  'n_estimators':[130,150,170]}\n",
    "{'max_depth': 6, 'n_estimators': 130}\n",
    "OVERFITTING"
   ]
  },
  {
   "cell_type": "markdown",
   "metadata": {},
   "source": [
    "## Summary of regression problem"
   ]
  },
  {
   "cell_type": "code",
   "execution_count": 33,
   "metadata": {},
   "outputs": [
    {
     "data": {
      "text/plain": [
       "<matplotlib.legend.Legend at 0x7f55c0147a50>"
      ]
     },
     "execution_count": 33,
     "metadata": {},
     "output_type": "execute_result"
    },
    {
     "data": {
      "image/png": "[encoded data removed]",
      "text/plain": [
       "<Figure size 432x288 with 1 Axes>"
      ]
     },
     "metadata": {
      "needs_background": "light"
     },
     "output_type": "display_data"
    }
   ],
   "source": [
    "plt.plot(dict_to_compare_test.keys(),dict_to_compare_test.values(),'b',label = 'rmse test')\n",
    "plt.plot(dict_to_compare_train.keys(),dict_to_compare_train.values(),'y',label='rmse train')\n",
    "plt.title('rmse for diferent models')\n",
    "plt.xticks(rotation=45)\n",
    "\n",
    "plt.legend()"
   ]
  },
  {
   "cell_type": "raw",
   "metadata": {},
   "source": [
    "Gradient boost is the best algorithm for the regression problem"
   ]
  },
  {
   "cell_type": "markdown",
   "metadata": {},
   "source": [
    "# Classification problem"
   ]
  },
  {
   "cell_type": "code",
   "execution_count": 52,
   "metadata": {},
   "outputs": [
    {
     "name": "stdout",
     "output_type": "stream",
     "text": [
      "category\n",
      "1.0    21866\n",
      "2.0    16915\n",
      "3.0     7460\n",
      "Name: name, dtype: int64\n"
     ]
    },
    {
     "name": "stderr",
     "output_type": "stream",
     "text": [
      "/home/anna/anaconda3/lib/python3.7/site-packages/ipykernel_launcher.py:5: UserWarning: Boolean Series key will be reindexed to match DataFrame index.\n",
      "  \"\"\"\n",
      "/home/anna/anaconda3/lib/python3.7/site-packages/ipykernel_launcher.py:9: UserWarning: Boolean Series key will be reindexed to match DataFrame index.\n",
      "  if __name__ == '__main__':\n",
      "/home/anna/anaconda3/lib/python3.7/site-packages/ipykernel_launcher.py:13: UserWarning: Boolean Series key will be reindexed to match DataFrame index.\n",
      "  del sys.path[0]\n"
     ]
    }
   ],
   "source": [
    "data[\"category\"] = np.nan\n",
    "\n",
    "condition = data['price']<100\n",
    "data['category'][condition]=1\n",
    "class_1 = X_df_train[condition]\n",
    "\n",
    "condition = (data['price']>=100)&(data['price']<200)\n",
    "data['category'][condition]=2\n",
    "class_2 = X_df_train[condition]\n",
    "\n",
    "condition = data['price']>=200\n",
    "data['category'][condition]=3\n",
    "class_3 = X_df_train[condition]\n",
    "\n",
    "each_category_amount = data.groupby('category').count()['name']\n",
    "print(each_category_amount)"
   ]
  },
  {
   "cell_type": "code",
   "execution_count": 53,
   "metadata": {},
   "outputs": [],
   "source": [
    "y_categorical = pd.get_dummies(data.category).to_numpy()\n",
    "y_train_c, y_test_c = train_test_split(y_categorical,test_size=0.2,random_state = 3)\n",
    "dict_to_compare_test_c = {}\n",
    "dict_to_compare_train_c = {}\n",
    "\n",
    "y_train_c_1dim, y_test_c_1dim = train_test_split(data.category,test_size=0.2,random_state = 3)"
   ]
  },
  {
   "cell_type": "markdown",
   "metadata": {},
   "source": [
    "## KNN"
   ]
  },
  {
   "cell_type": "code",
   "execution_count": 54,
   "metadata": {},
   "outputs": [
    {
     "name": "stdout",
     "output_type": "stream",
     "text": [
      "Fitting 4 folds for each of 6 candidates, totalling 24 fits\n"
     ]
    },
    {
     "name": "stderr",
     "output_type": "stream",
     "text": [
      "[Parallel(n_jobs=-1)]: Using backend LokyBackend with 4 concurrent workers.\n",
      "[Parallel(n_jobs=-1)]: Done  24 out of  24 | elapsed:   13.5s finished\n"
     ]
    },
    {
     "name": "stdout",
     "output_type": "stream",
     "text": [
      "{'n_neighbors': 20, 'weights': 'distance'}\n",
      "train weighted: 0.9999188920090503 \n",
      "test weighted: 0.4763401142439365\n"
     ]
    }
   ],
   "source": [
    "from sklearn.neighbors import KNeighborsClassifier\n",
    "\n",
    "knn= KNeighborsClassifier()\n",
    "params_knn = {'n_neighbors':[20,30,100],'weights':['distance','uniform']}\n",
    "grid_knn = GridSearchCV(estimator=knn,param_grid=params_knn,cv=4,n_jobs=-1,verbose=3,scoring='f1_weighted')\n",
    "grid_knn.fit(X_train,y_train_c)\n",
    "best_model = grid_knn.best_estimator_\n",
    "print(grid_knn.best_params_ )\n",
    "\n",
    "y_pred = best_model.predict(X_train)\n",
    "dict_to_compare_train_c['KNN'] = sklearn.metrics.f1_score(y_train_c, y_pred,average='weighted')\n",
    "y_pred = best_model.predict(X_test)\n",
    "dict_to_compare_test_c['KNN'] = sklearn.metrics.f1_score(y_test_c, y_pred,average='weighted')\n",
    "print('train weighted:',dict_to_compare_train_c['KNN'],'\\ntest weighted:',dict_to_compare_test_c['KNN'])"
   ]
  },
  {
   "cell_type": "raw",
   "metadata": {},
   "source": [
    "params_knn = {'n_neighbors':[1,2,3,4,5],'weights':['distance','uniform']}\n",
    "{'n_neighbors': 2, 'weights': 'distance'}\n",
    "train weighted: 0.9999188920090503 \n",
    "test weighted: 0.49032208038314556\n",
    "OVERFITTING\n",
    "------------------------------------------\n",
    "params_knn = {'n_neighbors':[3,4,5,6,7],'weights':['distance','uniform']}\n",
    "{'n_neighbors': 3, 'weights': 'distance'}\n",
    "train weighted: 0.9999188920090503 \n",
    "test weighted: 0.4920457056445621\n",
    "OVERFITTING\n",
    "------------------------------------------\n",
    "THE MODEL IS OVERFITTING"
   ]
  },
  {
   "cell_type": "code",
   "execution_count": 55,
   "metadata": {},
   "outputs": [
    {
     "data": {
      "image/png": "[encoded data removed]",
      "text/plain": [
       "<Figure size 432x288 with 2 Axes>"
      ]
     },
     "metadata": {
      "needs_background": "light"
     },
     "output_type": "display_data"
    }
   ],
   "source": [
    "from sklearn.metrics import confusion_matrix\n",
    "cf_matrix = confusion_matrix(y_test_c.argmax(axis=1), y_pred.argmax(axis=1))\n",
    "cf_matrix_pc = (cf_matrix/cf_matrix.sum(axis=0))*100\n",
    "import seaborn as sns\n",
    "sns.heatmap(cf_matrix_pc, annot=True,cmap='Blues')\n",
    "plt.title('confusuin matrix for test predictions in percent')\n",
    "plt.show()"
   ]
  },
  {
   "cell_type": "markdown",
   "metadata": {},
   "source": [
    "# Decision tree classifier"
   ]
  },
  {
   "cell_type": "code",
   "execution_count": 56,
   "metadata": {},
   "outputs": [
    {
     "name": "stdout",
     "output_type": "stream",
     "text": [
      "Fitting 4 folds for each of 54 candidates, totalling 216 fits\n"
     ]
    },
    {
     "name": "stderr",
     "output_type": "stream",
     "text": [
      "[Parallel(n_jobs=-1)]: Using backend LokyBackend with 4 concurrent workers.\n",
      "[Parallel(n_jobs=-1)]: Done  24 tasks      | elapsed:    4.3s\n",
      "[Parallel(n_jobs=-1)]: Done 120 tasks      | elapsed:   19.3s\n",
      "[Parallel(n_jobs=-1)]: Done 216 out of 216 | elapsed:   36.2s finished\n"
     ]
    },
    {
     "name": "stdout",
     "output_type": "stream",
     "text": [
      "{'max_depth': 10, 'min_samples_leaf': 0.001, 'min_samples_split': 0.005}\n",
      "train f1_weighted: 0.7544118559488835 \n",
      "test f1_weighted:  0.7102971840277528\n"
     ]
    }
   ],
   "source": [
    "from sklearn.tree import DecisionTreeClassifier\n",
    "\n",
    "dt_c= DecisionTreeClassifier()\n",
    "params_dt_c = {'max_depth':[10,11,12,13,14,15],\n",
    "                  'min_samples_leaf':[0.0005,0.001,0.005],\n",
    "                 'min_samples_split':[0.0005,0.001,0.005]}\n",
    "grid_dt_c = GridSearchCV(estimator=dt_c,param_grid=params_dt_c,cv=4,n_jobs=-1,verbose=3,scoring='f1_weighted')\n",
    "grid_dt_c.fit(X_train,y_train_c)\n",
    "best_model = grid_dt_c.best_estimator_\n",
    "pickle.dump(best_model,open('dt_c','wb'))\n",
    "print(grid_dt_c.best_params_ )\n",
    "\n",
    "best_model = pickle.load(open('dt_c','rb'))\n",
    "y_pred = best_model.predict(X_train)\n",
    "dict_to_compare_train_c['Decision tree'] = sklearn.metrics.f1_score(y_train_c, y_pred,average='weighted')\n",
    "y_pred = best_model.predict(X_test)\n",
    "dict_to_compare_test_c['Decision tree'] = sklearn.metrics.f1_score(y_test_c, y_pred,average='weighted')\n",
    "print('train f1_weighted:',dict_to_compare_train_c['Decision tree'],'\\ntest f1_weighted: ',dict_to_compare_test_c['Decision tree'])"
   ]
  },
  {
   "cell_type": "raw",
   "metadata": {},
   "source": [
    "params_dt_c = {'max_depth':[10,11,12,13,14,15],\n",
    "                  'min_samples_leaf':[0.0005,0.001,0.005],\n",
    "                 'min_samples_split':[0.0005,0.001,0.005]}\n",
    "{'max_depth': 10, 'min_samples_leaf': 0.001, 'min_samples_split': 0.005}\n",
    "train f1_weighted: 0.6520600057249878 \n",
    "test f1_weighted:  0.5807296536828147"
   ]
  },
  {
   "cell_type": "code",
   "execution_count": 57,
   "metadata": {},
   "outputs": [
    {
     "name": "stdout",
     "output_type": "stream",
     "text": [
      "train weighted: 0.7544118559488835 \n",
      "test weighted: 0.7102971840277528\n"
     ]
    },
    {
     "data": {
      "image/png": "[encoded data removed]",
      "text/plain": [
       "<Figure size 432x288 with 2 Axes>"
      ]
     },
     "metadata": {
      "needs_background": "light"
     },
     "output_type": "display_data"
    }
   ],
   "source": [
    "from sklearn.metrics import confusion_matrix\n",
    "cf_matrix = confusion_matrix(y_test_c.argmax(axis=1), y_pred.argmax(axis=1))\n",
    "cf_matrix_pc = (cf_matrix/cf_matrix.sum(axis=0))*100\n",
    "print('train weighted:',dict_to_compare_train_c['Decision tree'],'\\ntest weighted:',dict_to_compare_test_c['Decision tree'])\n",
    "sns.heatmap(cf_matrix_pc, annot=True,cmap='Blues')\n",
    "plt.title('confusuin matrix for test predictions in percent')\n",
    "plt.show()"
   ]
  },
  {
   "cell_type": "markdown",
   "metadata": {},
   "source": [
    "## LogisticRegression"
   ]
  },
  {
   "cell_type": "code",
   "execution_count": 58,
   "metadata": {},
   "outputs": [
    {
     "name": "stdout",
     "output_type": "stream",
     "text": [
      "train weighted: 0.710222034779951 \n",
      "test weightd: 0.704916180820397\n"
     ]
    },
    {
     "name": "stderr",
     "output_type": "stream",
     "text": [
      "/home/anna/anaconda3/lib/python3.7/site-packages/sklearn/linear_model/sag.py:334: ConvergenceWarning: The max_iter was reached which means the coef_ did not converge\n",
      "  \"the coef_ did not converge\", ConvergenceWarning)\n"
     ]
    }
   ],
   "source": [
    "from sklearn.linear_model import LogisticRegression\n",
    "log_reg = LogisticRegression(multi_class='ovr',solver='sag')\n",
    "log_reg.fit(scaler.fit_transform(X_train),y_train_c_1dim)\n",
    "\n",
    "y_pred = log_reg.predict(scaler.transform(X_train))\n",
    "dict_to_compare_train_c['Logistic regression_ovr'] = sklearn.metrics.f1_score(y_train_c_1dim, y_pred,average='weighted')\n",
    "y_pred = log_reg.predict(scaler.transform(X_test))\n",
    "dict_to_compare_test_c['Logistic regression_ovr'] = sklearn.metrics.f1_score(y_test_c_1dim, y_pred,average='weighted')\n",
    "print('train weighted:',dict_to_compare_train_c['Logistic regression_ovr'],'\\ntest weightd:',dict_to_compare_test_c['Logistic regression_ovr'])"
   ]
  },
  {
   "cell_type": "code",
   "execution_count": 59,
   "metadata": {},
   "outputs": [
    {
     "data": {
      "image/png": "[encoded data removed]",
      "text/plain": [
       "<Figure size 432x288 with 2 Axes>"
      ]
     },
     "metadata": {
      "needs_background": "light"
     },
     "output_type": "display_data"
    }
   ],
   "source": [
    "from sklearn.metrics import confusion_matrix\n",
    "cf_matrix = confusion_matrix(y_test_c_1dim, y_pred)\n",
    "cf_matrix_pc = (cf_matrix/cf_matrix.sum(axis=0))*100\n",
    "sns.heatmap(cf_matrix_pc, annot=True,cmap='Blues')\n",
    "plt.title('confusuin matrix for test predictions in percent')\n",
    "plt.show()"
   ]
  },
  {
   "cell_type": "code",
   "execution_count": 63,
   "metadata": {},
   "outputs": [
    {
     "name": "stdout",
     "output_type": "stream",
     "text": [
      "train f1 weighted: 0.721995758550603 \n",
      "test f1 weighted: 0.7116375748914887\n"
     ]
    },
    {
     "name": "stderr",
     "output_type": "stream",
     "text": [
      "/home/anna/anaconda3/lib/python3.7/site-packages/sklearn/linear_model/sag.py:334: ConvergenceWarning: The max_iter was reached which means the coef_ did not converge\n",
      "  \"the coef_ did not converge\", ConvergenceWarning)\n"
     ]
    }
   ],
   "source": [
    "from sklearn.linear_model import LogisticRegression\n",
    "log_reg = LogisticRegression(multi_class='multinomial',solver='saga')\n",
    "log_reg.fit(scaler.transform(X_train),y_train_c_1dim)\n",
    "y_pred = log_reg.predict(scaler.transform(X_train))\n",
    "dict_to_compare_train_c['Logistic regression_multinomial'] = sklearn.metrics.f1_score(y_train_c_1dim, y_pred,average='weighted')\n",
    "y_pred = log_reg.predict(scaler.transform(X_test))\n",
    "dict_to_compare_test_c['Logistic regression_multinomial'] = sklearn.metrics.f1_score(y_test_c_1dim, y_pred,average='weighted')\n",
    "print('train f1 weighted:',dict_to_compare_train_c['Logistic regression_multinomial'],'\\ntest f1 weighted:',dict_to_compare_test_c['Logistic regression_multinomial'])"
   ]
  },
  {
   "cell_type": "code",
   "execution_count": 64,
   "metadata": {},
   "outputs": [
    {
     "data": {
      "image/png": "[encoded data removed]",
      "text/plain": [
       "<Figure size 432x288 with 2 Axes>"
      ]
     },
     "metadata": {
      "needs_background": "light"
     },
     "output_type": "display_data"
    }
   ],
   "source": [
    "from sklearn.metrics import confusion_matrix\n",
    "cf_matrix = confusion_matrix(y_test_c_1dim, y_pred)\n",
    "cf_matrix_pc = (cf_matrix/cf_matrix.sum(axis=0))*100\n",
    "sns.heatmap(cf_matrix_pc, annot=True,cmap='Blues')\n",
    "plt.title('confusuin matrix for test predictions in percent')\n",
    "plt.show()"
   ]
  },
  {
   "cell_type": "markdown",
   "metadata": {},
   "source": [
    "## Summary of classification problem"
   ]
  },
  {
   "cell_type": "code",
   "execution_count": 65,
   "metadata": {},
   "outputs": [
    {
     "data": {
      "text/plain": [
       "<matplotlib.legend.Legend at 0x7f5578bd9190>"
      ]
     },
     "execution_count": 65,
     "metadata": {},
     "output_type": "execute_result"
    },
    {
     "data": {
      "image/png": "[encoded data removed]",
      "text/plain": [
       "<Figure size 432x288 with 1 Axes>"
      ]
     },
     "metadata": {
      "needs_background": "light"
     },
     "output_type": "display_data"
    }
   ],
   "source": [
    "plt.plot(dict_to_compare_test_c.keys(),dict_to_compare_test_c.values(),'b',label = 'f1 weighted score test')\n",
    "plt.plot(dict_to_compare_train_c.keys(),dict_to_compare_train_c.values(),'y',label='f1 weighted score train')\n",
    "plt.title('f1 weighted score for diferent models')\n",
    "plt.xticks(rotation=45)\n",
    "\n",
    "plt.legend()"
   ]
  },
  {
   "cell_type": "raw",
   "metadata": {},
   "source": [
    "the best model for this problem is Logistic regresion one over all"
   ]
  }
 ],
 "metadata": {
  "kernelspec": {
   "display_name": "Python 3",
   "language": "python",
   "name": "python3"
  },
  "language_info": {
   "codemirror_mode": {
    "name": "ipython",
    "version": 3
   },
   "file_extension": ".py",
   "mimetype": "text/x-python",
   "name": "python",
   "nbconvert_exporter": "python",
   "pygments_lexer": "ipython3",
   "version": "3.7.6"
  }
 },
 "nbformat": 4,
 "nbformat_minor": 2
}
